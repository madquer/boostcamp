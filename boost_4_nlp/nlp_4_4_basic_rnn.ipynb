{
 "cells": [
  {
   "cell_type": "markdown",
   "id": "subjective-justice",
   "metadata": {},
   "source": [
    "# RNN\n",
    "\n",
    "1. 주어진 데이터를 RNN에 넣을 수 있는 형태로 만든다.\n",
    "2. 기본적인 RNN 사용법 및 적용법을 익힌다.\n",
    "3. PackedSequence 의 필요성에 대해 배우고 적용법을 실습한다."
   ]
  },
  {
   "cell_type": "markdown",
   "id": "supreme-colony",
   "metadata": {},
   "source": [
    "## 라이브러리"
   ]
  },
  {
   "cell_type": "code",
   "execution_count": 12,
   "id": "plain-delight",
   "metadata": {},
   "outputs": [],
   "source": [
    "from tqdm import tqdm\n",
    "from torch import nn\n",
    "from torch.nn.utils.rnn import pack_padded_sequence, pad_packed_sequence\n",
    "\n",
    "from pprint import pprint\n",
    "import torch"
   ]
  },
  {
   "cell_type": "markdown",
   "id": "talented-methodology",
   "metadata": {},
   "source": [
    "`pack_padded_sequence` : PackedSequence object 를 만든다. 연산량을 줄이기 위해 torch rnn 에 특화된 패딩 객체를 만든다.  \n",
    "`pad_packed_sequence` : 다시 원래 형태 (batch_size, max_len, hidden_size) 로 만든다.  \n",
    "\n",
    "rnn 에 주입되는 pack sequence 객체는 output 도 같은 객체로 반환되므로, `pad_packed_sequence` 를 사용해서 다시 원래 형태 tensor 로 만들어준다."
   ]
  },
  {
   "cell_type": "markdown",
   "id": "social-filing",
   "metadata": {},
   "source": [
    "## 데이터 전처리\n",
    "\n",
    "sample data 를 확인해보자.  \n",
    "전체 단어 수와 pad token 의 id 도 아래와 같다.  "
   ]
  },
  {
   "cell_type": "code",
   "execution_count": 2,
   "id": "charged-essay",
   "metadata": {},
   "outputs": [],
   "source": [
    "vocab_size = 100\n",
    "pad_id = 0 # zero padding\n",
    "\n",
    "data = [\n",
    "  [85,14,80,34,99,20,31,65,53,86,3,58,30,4,11,6,50,71,74,13],\n",
    "  [62,76,79,66,32],\n",
    "  [93,77,16,67,46,74,24,70],\n",
    "  [19,83,88,22,57,40,75,82,4,46],\n",
    "  [70,28,30,24,76,84,92,76,77,51,7,20,82,94,57],\n",
    "  [58,13,40,61,88,18,92,89,8,14,61,67,49,59,45,12,47,5],\n",
    "  [22,5,21,84,39,6,9,84,36,59,32,30,69,70,82,56,1],\n",
    "  [94,21,79,24,3,86],\n",
    "  [80,80,33,63,34,63],\n",
    "  [87,32,79,65,2,96,43,80,85,20,41,52,95,50,35,96,24,80]\n",
    "]"
   ]
  },
  {
   "cell_type": "markdown",
   "id": "virtual-engineering",
   "metadata": {},
   "source": [
    "Padding 처리를 해주면서 padding 전 길이도 저장한다."
   ]
  },
  {
   "cell_type": "code",
   "execution_count": 9,
   "id": "owned-enclosure",
   "metadata": {},
   "outputs": [
    {
     "name": "stderr",
     "output_type": "stream",
     "text": [
      "100%|██████████| 10/10 [00:00<00:00, 119156.36it/s]"
     ]
    },
    {
     "name": "stdout",
     "output_type": "stream",
     "text": [
      "Maximum sequence length: 20\n"
     ]
    },
    {
     "name": "stderr",
     "output_type": "stream",
     "text": [
      "\n"
     ]
    }
   ],
   "source": [
    "max_len = len(max(data, key=len))\n",
    "print(f\"Maximum sequence length: {max_len}\")\n",
    "\n",
    "valid_lens = []\n",
    "for i, seq in enumerate(tqdm(data)):\n",
    "    valid_lens.append(len(seq))\n",
    "    if len(seq) < max_len:\n",
    "        data[i] = seq + [pad_id] * (max_len - len(seq))"
   ]
  },
  {
   "cell_type": "code",
   "execution_count": 13,
   "id": "academic-filter",
   "metadata": {},
   "outputs": [
    {
     "name": "stdout",
     "output_type": "stream",
     "text": [
      "[[85, 14, 80, 34, 99, 20, 31, 65, 53, 86, 3, 58, 30, 4, 11, 6, 50, 71, 74, 13],\n",
      " [62, 76, 79, 66, 32, 0, 0, 0, 0, 0, 0, 0, 0, 0, 0, 0, 0, 0, 0, 0],\n",
      " [93, 77, 16, 67, 46, 74, 24, 70, 0, 0, 0, 0, 0, 0, 0, 0, 0, 0, 0, 0],\n",
      " [19, 83, 88, 22, 57, 40, 75, 82, 4, 46, 0, 0, 0, 0, 0, 0, 0, 0, 0, 0],\n",
      " [70, 28, 30, 24, 76, 84, 92, 76, 77, 51, 7, 20, 82, 94, 57, 0, 0, 0, 0, 0],\n",
      " [58, 13, 40, 61, 88, 18, 92, 89, 8, 14, 61, 67, 49, 59, 45, 12, 47, 5, 0, 0],\n",
      " [22, 5, 21, 84, 39, 6, 9, 84, 36, 59, 32, 30, 69, 70, 82, 56, 1, 0, 0, 0],\n",
      " [94, 21, 79, 24, 3, 86, 0, 0, 0, 0, 0, 0, 0, 0, 0, 0, 0, 0, 0, 0],\n",
      " [80, 80, 33, 63, 34, 63, 0, 0, 0, 0, 0, 0, 0, 0, 0, 0, 0, 0, 0, 0],\n",
      " [87, 32, 79, 65, 2, 96, 43, 80, 85, 20, 41, 52, 95, 50, 35, 96, 24, 80, 0, 0]]\n",
      "\n",
      " [20, 5, 8, 10, 15, 18, 17, 6, 6, 18]\n"
     ]
    }
   ],
   "source": [
    "pprint(data, width=100)\n",
    "print('\\n',valid_lens) "
   ]
  },
  {
   "cell_type": "markdown",
   "id": "brief-amsterdam",
   "metadata": {},
   "source": [
    "위 데이터를 하나의 batch 로 만들어 실습에 이용하겠습니다."
   ]
  },
  {
   "cell_type": "code",
   "execution_count": 14,
   "id": "wired-priority",
   "metadata": {},
   "outputs": [],
   "source": [
    "# B : batch_size, L : maximum sequence length\n",
    "batch = torch.LongTensor(data) # (B, L)\n",
    "batch_lens = torch.LongTensor(valid_lens) # (B)"
   ]
  },
  {
   "cell_type": "code",
   "execution_count": 16,
   "id": "green-lease",
   "metadata": {},
   "outputs": [
    {
     "data": {
      "text/plain": [
       "(tensor([[85, 14, 80, 34, 99, 20, 31, 65, 53, 86,  3, 58, 30,  4, 11,  6, 50, 71,\n",
       "          74, 13],\n",
       "         [62, 76, 79, 66, 32,  0,  0,  0,  0,  0,  0,  0,  0,  0,  0,  0,  0,  0,\n",
       "           0,  0],\n",
       "         [93, 77, 16, 67, 46, 74, 24, 70,  0,  0,  0,  0,  0,  0,  0,  0,  0,  0,\n",
       "           0,  0],\n",
       "         [19, 83, 88, 22, 57, 40, 75, 82,  4, 46,  0,  0,  0,  0,  0,  0,  0,  0,\n",
       "           0,  0],\n",
       "         [70, 28, 30, 24, 76, 84, 92, 76, 77, 51,  7, 20, 82, 94, 57,  0,  0,  0,\n",
       "           0,  0],\n",
       "         [58, 13, 40, 61, 88, 18, 92, 89,  8, 14, 61, 67, 49, 59, 45, 12, 47,  5,\n",
       "           0,  0],\n",
       "         [22,  5, 21, 84, 39,  6,  9, 84, 36, 59, 32, 30, 69, 70, 82, 56,  1,  0,\n",
       "           0,  0],\n",
       "         [94, 21, 79, 24,  3, 86,  0,  0,  0,  0,  0,  0,  0,  0,  0,  0,  0,  0,\n",
       "           0,  0],\n",
       "         [80, 80, 33, 63, 34, 63,  0,  0,  0,  0,  0,  0,  0,  0,  0,  0,  0,  0,\n",
       "           0,  0],\n",
       "         [87, 32, 79, 65,  2, 96, 43, 80, 85, 20, 41, 52, 95, 50, 35, 96, 24, 80,\n",
       "           0,  0]]),\n",
       " tensor([20,  5,  8, 10, 15, 18, 17,  6,  6, 18]))"
      ]
     },
     "execution_count": 16,
     "metadata": {},
     "output_type": "execute_result"
    }
   ],
   "source": [
    "batch, batch_lens"
   ]
  },
  {
   "cell_type": "markdown",
   "id": "informed-silence",
   "metadata": {},
   "source": [
    "## RNN\n",
    "\n",
    "RNN 에 넣기 전 word embedding 을 위한 embedding layer 를 만듭니다."
   ]
  },
  {
   "cell_type": "code",
   "execution_count": 17,
   "id": "smart-necessity",
   "metadata": {},
   "outputs": [],
   "source": [
    "embedding_size = 256\n",
    "embedding = nn.Embedding(vocab_size, embedding_size)\n",
    "\n",
    "# d_w : embedding size\n",
    "batch_emb = embedding(batch) # (B, L, d_w)"
   ]
  },
  {
   "cell_type": "code",
   "execution_count": 18,
   "id": "nutritional-madrid",
   "metadata": {},
   "outputs": [
    {
     "data": {
      "text/plain": [
       "Embedding(100, 256)"
      ]
     },
     "execution_count": 18,
     "metadata": {},
     "output_type": "execute_result"
    }
   ],
   "source": [
    "embedding"
   ]
  },
  {
   "cell_type": "markdown",
   "id": "attached-tutorial",
   "metadata": {},
   "source": [
    "아래와 같이 RNN 모델 및 초기 hidden state 를 정의합니다."
   ]
  },
  {
   "cell_type": "code",
   "execution_count": 19,
   "id": "subsequent-declaration",
   "metadata": {},
   "outputs": [],
   "source": [
    "hidden_size = 512  # RNN 의 hidden size\n",
    "num_layers = 1     # 쌓을 RNN layer 의 개수\n",
    "num_dirs = 1       # 1: 단방향 RNN, 2:양방향 RNN\n",
    "\n",
    "rnn = nn.RNN(\n",
    "    input_size = embedding_size, # 256\n",
    "    hidden_size = hidden_size,   # 512\n",
    "    num_layers = num_layers,     # 층 1개\n",
    "    bidirectional = True if num_dirs > 1 else False\n",
    ")\n",
    "\n",
    "h_0 = torch.zeros((num_layers * num_dirs, batch.shape[0], hidden_size)) # (num_layers * num_dirs, B, d_h)"
   ]
  },
  {
   "cell_type": "code",
   "execution_count": 20,
   "id": "incoming-woman",
   "metadata": {},
   "outputs": [
    {
     "data": {
      "text/plain": [
       "RNN(256, 512)"
      ]
     },
     "execution_count": 20,
     "metadata": {},
     "output_type": "execute_result"
    }
   ],
   "source": [
    "rnn"
   ]
  },
  {
   "cell_type": "code",
   "execution_count": 22,
   "id": "resistant-lodge",
   "metadata": {},
   "outputs": [
    {
     "data": {
      "text/plain": [
       "torch.Size([1, 10, 512])"
      ]
     },
     "execution_count": 22,
     "metadata": {},
     "output_type": "execute_result"
    }
   ],
   "source": [
    "h_0.size() # 초기 hidden state"
   ]
  },
  {
   "cell_type": "markdown",
   "id": "certified-placement",
   "metadata": {},
   "source": [
    "RNN에 batch data 를 넣으면 아래와 같이 2가지 output을 얻습니다.(return_sequences 유무)    \n",
    "* `hidden_states` : 각 time step에 해당하는 hidden state 들의 묶음\n",
    "* `h_n` : 모든 sequence 를 거치고 나온 마지막 hidden state"
   ]
  },
  {
   "cell_type": "code",
   "execution_count": 25,
   "id": "remarkable-swimming",
   "metadata": {},
   "outputs": [
    {
     "name": "stdout",
     "output_type": "stream",
     "text": [
      "torch.Size([20, 10, 512])\n",
      "torch.Size([1, 10, 512])\n"
     ]
    }
   ],
   "source": [
    "hidden_states, h_n = rnn(batch_emb.transpose(0,1), h_0)\n",
    "# rnn 에 input 될 때는 차원이 (length, batch_size, word_embedding) 차원이므로 transpose 해준다.\n",
    "# (batch_size, length, word_embedding) X\n",
    "# option 을 주면 transpose 하지 않아도 자동으로 해주기도 한다.\n",
    "\n",
    "# d_h : hidden size, num_layers : layer 개수, num_dirs : 방향의 개수\n",
    "print(hidden_states.shape) # (L, B, d_h)\n",
    "print(h_n.shape) # (num_layers * num_dirs, B, d_h) = (1, B, d_h)"
   ]
  },
  {
   "cell_type": "markdown",
   "id": "coupled-prime",
   "metadata": {},
   "source": [
    "## RNN 활용법\n",
    "\n",
    "마지막 hidden state 를 이용하여 text classification task 에 적용할 수 있다."
   ]
  },
  {
   "cell_type": "code",
   "execution_count": 26,
   "id": "paperback-jordan",
   "metadata": {},
   "outputs": [
    {
     "name": "stdout",
     "output_type": "stream",
     "text": [
      "torch.Size([10, 2])\n"
     ]
    }
   ],
   "source": [
    "num_classes = 2\n",
    "classification_layer = nn.Linear(hidden_size, num_classes)\n",
    "\n",
    "# C : number of classes\n",
    "output = classification_layer(h_n.squeeze(0)) # (1, B, d_h) => (B, C)\n",
    "print(output.shape)"
   ]
  },
  {
   "cell_type": "markdown",
   "id": "independent-spokesman",
   "metadata": {},
   "source": [
    "각 time step 에 대한 hidden state 를 이용하여 token-level 의 task를 수행할 수도 있다."
   ]
  },
  {
   "cell_type": "code",
   "execution_count": 28,
   "id": "careful-oxford",
   "metadata": {},
   "outputs": [
    {
     "name": "stdout",
     "output_type": "stream",
     "text": [
      "torch.Size([20, 10, 5])\n"
     ]
    }
   ],
   "source": [
    "num_classes = 5\n",
    "entity_layer = nn.Linear(hidden_size, num_classes)\n",
    "\n",
    "# C : number of classes\n",
    "output = entity_layer(hidden_states) # (L, B, d_h) => (L, B, C)\n",
    "print(output.shape) # output shape 가 length 별로 나오게 된다."
   ]
  },
  {
   "cell_type": "markdown",
   "id": "fallen-scientist",
   "metadata": {},
   "source": [
    "# PackedSequence\n",
    "\n",
    "## PackedSequence 사용법\n",
    "\n",
    "앞서 padding 처리했던 데이터를 확인해보자"
   ]
  },
  {
   "cell_type": "code",
   "execution_count": 31,
   "id": "involved-telescope",
   "metadata": {},
   "outputs": [],
   "source": [
    "import pandas as pd"
   ]
  },
  {
   "cell_type": "code",
   "execution_count": 30,
   "id": "comic-topic",
   "metadata": {},
   "outputs": [
    {
     "data": {
      "text/plain": [
       "[[85, 14, 80, 34, 99, 20, 31, 65, 53, 86, 3, 58, 30, 4, 11, 6, 50, 71, 74, 13],\n",
       " [62, 76, 79, 66, 32, 0, 0, 0, 0, 0, 0, 0, 0, 0, 0, 0, 0, 0, 0, 0],\n",
       " [93, 77, 16, 67, 46, 74, 24, 70, 0, 0, 0, 0, 0, 0, 0, 0, 0, 0, 0, 0],\n",
       " [19, 83, 88, 22, 57, 40, 75, 82, 4, 46, 0, 0, 0, 0, 0, 0, 0, 0, 0, 0],\n",
       " [70, 28, 30, 24, 76, 84, 92, 76, 77, 51, 7, 20, 82, 94, 57, 0, 0, 0, 0, 0],\n",
       " [58, 13, 40, 61, 88, 18, 92, 89, 8, 14, 61, 67, 49, 59, 45, 12, 47, 5, 0, 0],\n",
       " [22, 5, 21, 84, 39, 6, 9, 84, 36, 59, 32, 30, 69, 70, 82, 56, 1, 0, 0, 0],\n",
       " [94, 21, 79, 24, 3, 86, 0, 0, 0, 0, 0, 0, 0, 0, 0, 0, 0, 0, 0, 0],\n",
       " [80, 80, 33, 63, 34, 63, 0, 0, 0, 0, 0, 0, 0, 0, 0, 0, 0, 0, 0, 0],\n",
       " [87, 32, 79, 65, 2, 96, 43, 80, 85, 20, 41, 52, 95, 50, 35, 96, 24, 80, 0, 0]]"
      ]
     },
     "execution_count": 30,
     "metadata": {},
     "output_type": "execute_result"
    }
   ],
   "source": [
    "data"
   ]
  },
  {
   "cell_type": "code",
   "execution_count": 51,
   "id": "light-might",
   "metadata": {},
   "outputs": [
    {
     "data": {
      "text/html": [
       "<style  type=\"text/css\" >\n",
       "#T_941df_row0_col0,#T_941df_row0_col1,#T_941df_row0_col2,#T_941df_row0_col3,#T_941df_row0_col4,#T_941df_row0_col5,#T_941df_row0_col6,#T_941df_row0_col7,#T_941df_row0_col8,#T_941df_row0_col9,#T_941df_row0_col10,#T_941df_row0_col11,#T_941df_row0_col12,#T_941df_row0_col13,#T_941df_row0_col14,#T_941df_row0_col15,#T_941df_row0_col16,#T_941df_row0_col17,#T_941df_row0_col18,#T_941df_row0_col19,#T_941df_row1_col0,#T_941df_row1_col1,#T_941df_row1_col2,#T_941df_row1_col3,#T_941df_row1_col4,#T_941df_row2_col0,#T_941df_row2_col1,#T_941df_row2_col2,#T_941df_row2_col3,#T_941df_row2_col4,#T_941df_row2_col5,#T_941df_row2_col6,#T_941df_row2_col7,#T_941df_row3_col0,#T_941df_row3_col1,#T_941df_row3_col2,#T_941df_row3_col3,#T_941df_row3_col4,#T_941df_row3_col5,#T_941df_row3_col6,#T_941df_row3_col7,#T_941df_row3_col8,#T_941df_row3_col9,#T_941df_row4_col0,#T_941df_row4_col1,#T_941df_row4_col2,#T_941df_row4_col3,#T_941df_row4_col4,#T_941df_row4_col5,#T_941df_row4_col6,#T_941df_row4_col7,#T_941df_row4_col8,#T_941df_row4_col9,#T_941df_row4_col10,#T_941df_row4_col11,#T_941df_row4_col12,#T_941df_row4_col13,#T_941df_row4_col14,#T_941df_row5_col0,#T_941df_row5_col1,#T_941df_row5_col2,#T_941df_row5_col3,#T_941df_row5_col4,#T_941df_row5_col5,#T_941df_row5_col6,#T_941df_row5_col7,#T_941df_row5_col8,#T_941df_row5_col9,#T_941df_row5_col10,#T_941df_row5_col11,#T_941df_row5_col12,#T_941df_row5_col13,#T_941df_row5_col14,#T_941df_row5_col15,#T_941df_row5_col16,#T_941df_row5_col17,#T_941df_row6_col0,#T_941df_row6_col1,#T_941df_row6_col2,#T_941df_row6_col3,#T_941df_row6_col4,#T_941df_row6_col5,#T_941df_row6_col6,#T_941df_row6_col7,#T_941df_row6_col8,#T_941df_row6_col9,#T_941df_row6_col10,#T_941df_row6_col11,#T_941df_row6_col12,#T_941df_row6_col13,#T_941df_row6_col14,#T_941df_row6_col15,#T_941df_row6_col16,#T_941df_row7_col0,#T_941df_row7_col1,#T_941df_row7_col2,#T_941df_row7_col3,#T_941df_row7_col4,#T_941df_row7_col5,#T_941df_row8_col0,#T_941df_row8_col1,#T_941df_row8_col2,#T_941df_row8_col3,#T_941df_row8_col4,#T_941df_row8_col5,#T_941df_row9_col0,#T_941df_row9_col1,#T_941df_row9_col2,#T_941df_row9_col3,#T_941df_row9_col4,#T_941df_row9_col5,#T_941df_row9_col6,#T_941df_row9_col7,#T_941df_row9_col8,#T_941df_row9_col9,#T_941df_row9_col10,#T_941df_row9_col11,#T_941df_row9_col12,#T_941df_row9_col13,#T_941df_row9_col14,#T_941df_row9_col15,#T_941df_row9_col16,#T_941df_row9_col17{\n",
       "            background-color:  #053061;\n",
       "            color:  #f1f1f1;\n",
       "        }#T_941df_row1_col5,#T_941df_row1_col6,#T_941df_row1_col7,#T_941df_row1_col8,#T_941df_row1_col9,#T_941df_row1_col10,#T_941df_row1_col11,#T_941df_row1_col12,#T_941df_row1_col13,#T_941df_row1_col14,#T_941df_row1_col15,#T_941df_row1_col16,#T_941df_row1_col17,#T_941df_row1_col18,#T_941df_row1_col19,#T_941df_row2_col8,#T_941df_row2_col9,#T_941df_row2_col10,#T_941df_row2_col11,#T_941df_row2_col12,#T_941df_row2_col13,#T_941df_row2_col14,#T_941df_row2_col15,#T_941df_row2_col16,#T_941df_row2_col17,#T_941df_row2_col18,#T_941df_row2_col19,#T_941df_row3_col10,#T_941df_row3_col11,#T_941df_row3_col12,#T_941df_row3_col13,#T_941df_row3_col14,#T_941df_row3_col15,#T_941df_row3_col16,#T_941df_row3_col17,#T_941df_row3_col18,#T_941df_row3_col19,#T_941df_row4_col15,#T_941df_row4_col16,#T_941df_row4_col17,#T_941df_row4_col18,#T_941df_row4_col19,#T_941df_row5_col18,#T_941df_row5_col19,#T_941df_row6_col17,#T_941df_row6_col18,#T_941df_row6_col19,#T_941df_row7_col6,#T_941df_row7_col7,#T_941df_row7_col8,#T_941df_row7_col9,#T_941df_row7_col10,#T_941df_row7_col11,#T_941df_row7_col12,#T_941df_row7_col13,#T_941df_row7_col14,#T_941df_row7_col15,#T_941df_row7_col16,#T_941df_row7_col17,#T_941df_row7_col18,#T_941df_row7_col19,#T_941df_row8_col6,#T_941df_row8_col7,#T_941df_row8_col8,#T_941df_row8_col9,#T_941df_row8_col10,#T_941df_row8_col11,#T_941df_row8_col12,#T_941df_row8_col13,#T_941df_row8_col14,#T_941df_row8_col15,#T_941df_row8_col16,#T_941df_row8_col17,#T_941df_row8_col18,#T_941df_row8_col19,#T_941df_row9_col18,#T_941df_row9_col19{\n",
       "            background-color:  #67001f;\n",
       "            color:  #f1f1f1;\n",
       "        }</style><table id=\"T_941df_\" ><thead>    <tr>        <th class=\"blank level0\" ></th>        <th class=\"col_heading level0 col0\" >0</th>        <th class=\"col_heading level0 col1\" >1</th>        <th class=\"col_heading level0 col2\" >2</th>        <th class=\"col_heading level0 col3\" >3</th>        <th class=\"col_heading level0 col4\" >4</th>        <th class=\"col_heading level0 col5\" >5</th>        <th class=\"col_heading level0 col6\" >6</th>        <th class=\"col_heading level0 col7\" >7</th>        <th class=\"col_heading level0 col8\" >8</th>        <th class=\"col_heading level0 col9\" >9</th>        <th class=\"col_heading level0 col10\" >10</th>        <th class=\"col_heading level0 col11\" >11</th>        <th class=\"col_heading level0 col12\" >12</th>        <th class=\"col_heading level0 col13\" >13</th>        <th class=\"col_heading level0 col14\" >14</th>        <th class=\"col_heading level0 col15\" >15</th>        <th class=\"col_heading level0 col16\" >16</th>        <th class=\"col_heading level0 col17\" >17</th>        <th class=\"col_heading level0 col18\" >18</th>        <th class=\"col_heading level0 col19\" >19</th>    </tr></thead><tbody>\n",
       "                <tr>\n",
       "                        <th id=\"T_941df_level0_row0\" class=\"row_heading level0 row0\" >0</th>\n",
       "                        <td id=\"T_941df_row0_col0\" class=\"data row0 col0\" >85</td>\n",
       "                        <td id=\"T_941df_row0_col1\" class=\"data row0 col1\" >14</td>\n",
       "                        <td id=\"T_941df_row0_col2\" class=\"data row0 col2\" >80</td>\n",
       "                        <td id=\"T_941df_row0_col3\" class=\"data row0 col3\" >34</td>\n",
       "                        <td id=\"T_941df_row0_col4\" class=\"data row0 col4\" >99</td>\n",
       "                        <td id=\"T_941df_row0_col5\" class=\"data row0 col5\" >20</td>\n",
       "                        <td id=\"T_941df_row0_col6\" class=\"data row0 col6\" >31</td>\n",
       "                        <td id=\"T_941df_row0_col7\" class=\"data row0 col7\" >65</td>\n",
       "                        <td id=\"T_941df_row0_col8\" class=\"data row0 col8\" >53</td>\n",
       "                        <td id=\"T_941df_row0_col9\" class=\"data row0 col9\" >86</td>\n",
       "                        <td id=\"T_941df_row0_col10\" class=\"data row0 col10\" >3</td>\n",
       "                        <td id=\"T_941df_row0_col11\" class=\"data row0 col11\" >58</td>\n",
       "                        <td id=\"T_941df_row0_col12\" class=\"data row0 col12\" >30</td>\n",
       "                        <td id=\"T_941df_row0_col13\" class=\"data row0 col13\" >4</td>\n",
       "                        <td id=\"T_941df_row0_col14\" class=\"data row0 col14\" >11</td>\n",
       "                        <td id=\"T_941df_row0_col15\" class=\"data row0 col15\" >6</td>\n",
       "                        <td id=\"T_941df_row0_col16\" class=\"data row0 col16\" >50</td>\n",
       "                        <td id=\"T_941df_row0_col17\" class=\"data row0 col17\" >71</td>\n",
       "                        <td id=\"T_941df_row0_col18\" class=\"data row0 col18\" >74</td>\n",
       "                        <td id=\"T_941df_row0_col19\" class=\"data row0 col19\" >13</td>\n",
       "            </tr>\n",
       "            <tr>\n",
       "                        <th id=\"T_941df_level0_row1\" class=\"row_heading level0 row1\" >1</th>\n",
       "                        <td id=\"T_941df_row1_col0\" class=\"data row1 col0\" >62</td>\n",
       "                        <td id=\"T_941df_row1_col1\" class=\"data row1 col1\" >76</td>\n",
       "                        <td id=\"T_941df_row1_col2\" class=\"data row1 col2\" >79</td>\n",
       "                        <td id=\"T_941df_row1_col3\" class=\"data row1 col3\" >66</td>\n",
       "                        <td id=\"T_941df_row1_col4\" class=\"data row1 col4\" >32</td>\n",
       "                        <td id=\"T_941df_row1_col5\" class=\"data row1 col5\" >0</td>\n",
       "                        <td id=\"T_941df_row1_col6\" class=\"data row1 col6\" >0</td>\n",
       "                        <td id=\"T_941df_row1_col7\" class=\"data row1 col7\" >0</td>\n",
       "                        <td id=\"T_941df_row1_col8\" class=\"data row1 col8\" >0</td>\n",
       "                        <td id=\"T_941df_row1_col9\" class=\"data row1 col9\" >0</td>\n",
       "                        <td id=\"T_941df_row1_col10\" class=\"data row1 col10\" >0</td>\n",
       "                        <td id=\"T_941df_row1_col11\" class=\"data row1 col11\" >0</td>\n",
       "                        <td id=\"T_941df_row1_col12\" class=\"data row1 col12\" >0</td>\n",
       "                        <td id=\"T_941df_row1_col13\" class=\"data row1 col13\" >0</td>\n",
       "                        <td id=\"T_941df_row1_col14\" class=\"data row1 col14\" >0</td>\n",
       "                        <td id=\"T_941df_row1_col15\" class=\"data row1 col15\" >0</td>\n",
       "                        <td id=\"T_941df_row1_col16\" class=\"data row1 col16\" >0</td>\n",
       "                        <td id=\"T_941df_row1_col17\" class=\"data row1 col17\" >0</td>\n",
       "                        <td id=\"T_941df_row1_col18\" class=\"data row1 col18\" >0</td>\n",
       "                        <td id=\"T_941df_row1_col19\" class=\"data row1 col19\" >0</td>\n",
       "            </tr>\n",
       "            <tr>\n",
       "                        <th id=\"T_941df_level0_row2\" class=\"row_heading level0 row2\" >2</th>\n",
       "                        <td id=\"T_941df_row2_col0\" class=\"data row2 col0\" >93</td>\n",
       "                        <td id=\"T_941df_row2_col1\" class=\"data row2 col1\" >77</td>\n",
       "                        <td id=\"T_941df_row2_col2\" class=\"data row2 col2\" >16</td>\n",
       "                        <td id=\"T_941df_row2_col3\" class=\"data row2 col3\" >67</td>\n",
       "                        <td id=\"T_941df_row2_col4\" class=\"data row2 col4\" >46</td>\n",
       "                        <td id=\"T_941df_row2_col5\" class=\"data row2 col5\" >74</td>\n",
       "                        <td id=\"T_941df_row2_col6\" class=\"data row2 col6\" >24</td>\n",
       "                        <td id=\"T_941df_row2_col7\" class=\"data row2 col7\" >70</td>\n",
       "                        <td id=\"T_941df_row2_col8\" class=\"data row2 col8\" >0</td>\n",
       "                        <td id=\"T_941df_row2_col9\" class=\"data row2 col9\" >0</td>\n",
       "                        <td id=\"T_941df_row2_col10\" class=\"data row2 col10\" >0</td>\n",
       "                        <td id=\"T_941df_row2_col11\" class=\"data row2 col11\" >0</td>\n",
       "                        <td id=\"T_941df_row2_col12\" class=\"data row2 col12\" >0</td>\n",
       "                        <td id=\"T_941df_row2_col13\" class=\"data row2 col13\" >0</td>\n",
       "                        <td id=\"T_941df_row2_col14\" class=\"data row2 col14\" >0</td>\n",
       "                        <td id=\"T_941df_row2_col15\" class=\"data row2 col15\" >0</td>\n",
       "                        <td id=\"T_941df_row2_col16\" class=\"data row2 col16\" >0</td>\n",
       "                        <td id=\"T_941df_row2_col17\" class=\"data row2 col17\" >0</td>\n",
       "                        <td id=\"T_941df_row2_col18\" class=\"data row2 col18\" >0</td>\n",
       "                        <td id=\"T_941df_row2_col19\" class=\"data row2 col19\" >0</td>\n",
       "            </tr>\n",
       "            <tr>\n",
       "                        <th id=\"T_941df_level0_row3\" class=\"row_heading level0 row3\" >3</th>\n",
       "                        <td id=\"T_941df_row3_col0\" class=\"data row3 col0\" >19</td>\n",
       "                        <td id=\"T_941df_row3_col1\" class=\"data row3 col1\" >83</td>\n",
       "                        <td id=\"T_941df_row3_col2\" class=\"data row3 col2\" >88</td>\n",
       "                        <td id=\"T_941df_row3_col3\" class=\"data row3 col3\" >22</td>\n",
       "                        <td id=\"T_941df_row3_col4\" class=\"data row3 col4\" >57</td>\n",
       "                        <td id=\"T_941df_row3_col5\" class=\"data row3 col5\" >40</td>\n",
       "                        <td id=\"T_941df_row3_col6\" class=\"data row3 col6\" >75</td>\n",
       "                        <td id=\"T_941df_row3_col7\" class=\"data row3 col7\" >82</td>\n",
       "                        <td id=\"T_941df_row3_col8\" class=\"data row3 col8\" >4</td>\n",
       "                        <td id=\"T_941df_row3_col9\" class=\"data row3 col9\" >46</td>\n",
       "                        <td id=\"T_941df_row3_col10\" class=\"data row3 col10\" >0</td>\n",
       "                        <td id=\"T_941df_row3_col11\" class=\"data row3 col11\" >0</td>\n",
       "                        <td id=\"T_941df_row3_col12\" class=\"data row3 col12\" >0</td>\n",
       "                        <td id=\"T_941df_row3_col13\" class=\"data row3 col13\" >0</td>\n",
       "                        <td id=\"T_941df_row3_col14\" class=\"data row3 col14\" >0</td>\n",
       "                        <td id=\"T_941df_row3_col15\" class=\"data row3 col15\" >0</td>\n",
       "                        <td id=\"T_941df_row3_col16\" class=\"data row3 col16\" >0</td>\n",
       "                        <td id=\"T_941df_row3_col17\" class=\"data row3 col17\" >0</td>\n",
       "                        <td id=\"T_941df_row3_col18\" class=\"data row3 col18\" >0</td>\n",
       "                        <td id=\"T_941df_row3_col19\" class=\"data row3 col19\" >0</td>\n",
       "            </tr>\n",
       "            <tr>\n",
       "                        <th id=\"T_941df_level0_row4\" class=\"row_heading level0 row4\" >4</th>\n",
       "                        <td id=\"T_941df_row4_col0\" class=\"data row4 col0\" >70</td>\n",
       "                        <td id=\"T_941df_row4_col1\" class=\"data row4 col1\" >28</td>\n",
       "                        <td id=\"T_941df_row4_col2\" class=\"data row4 col2\" >30</td>\n",
       "                        <td id=\"T_941df_row4_col3\" class=\"data row4 col3\" >24</td>\n",
       "                        <td id=\"T_941df_row4_col4\" class=\"data row4 col4\" >76</td>\n",
       "                        <td id=\"T_941df_row4_col5\" class=\"data row4 col5\" >84</td>\n",
       "                        <td id=\"T_941df_row4_col6\" class=\"data row4 col6\" >92</td>\n",
       "                        <td id=\"T_941df_row4_col7\" class=\"data row4 col7\" >76</td>\n",
       "                        <td id=\"T_941df_row4_col8\" class=\"data row4 col8\" >77</td>\n",
       "                        <td id=\"T_941df_row4_col9\" class=\"data row4 col9\" >51</td>\n",
       "                        <td id=\"T_941df_row4_col10\" class=\"data row4 col10\" >7</td>\n",
       "                        <td id=\"T_941df_row4_col11\" class=\"data row4 col11\" >20</td>\n",
       "                        <td id=\"T_941df_row4_col12\" class=\"data row4 col12\" >82</td>\n",
       "                        <td id=\"T_941df_row4_col13\" class=\"data row4 col13\" >94</td>\n",
       "                        <td id=\"T_941df_row4_col14\" class=\"data row4 col14\" >57</td>\n",
       "                        <td id=\"T_941df_row4_col15\" class=\"data row4 col15\" >0</td>\n",
       "                        <td id=\"T_941df_row4_col16\" class=\"data row4 col16\" >0</td>\n",
       "                        <td id=\"T_941df_row4_col17\" class=\"data row4 col17\" >0</td>\n",
       "                        <td id=\"T_941df_row4_col18\" class=\"data row4 col18\" >0</td>\n",
       "                        <td id=\"T_941df_row4_col19\" class=\"data row4 col19\" >0</td>\n",
       "            </tr>\n",
       "            <tr>\n",
       "                        <th id=\"T_941df_level0_row5\" class=\"row_heading level0 row5\" >5</th>\n",
       "                        <td id=\"T_941df_row5_col0\" class=\"data row5 col0\" >58</td>\n",
       "                        <td id=\"T_941df_row5_col1\" class=\"data row5 col1\" >13</td>\n",
       "                        <td id=\"T_941df_row5_col2\" class=\"data row5 col2\" >40</td>\n",
       "                        <td id=\"T_941df_row5_col3\" class=\"data row5 col3\" >61</td>\n",
       "                        <td id=\"T_941df_row5_col4\" class=\"data row5 col4\" >88</td>\n",
       "                        <td id=\"T_941df_row5_col5\" class=\"data row5 col5\" >18</td>\n",
       "                        <td id=\"T_941df_row5_col6\" class=\"data row5 col6\" >92</td>\n",
       "                        <td id=\"T_941df_row5_col7\" class=\"data row5 col7\" >89</td>\n",
       "                        <td id=\"T_941df_row5_col8\" class=\"data row5 col8\" >8</td>\n",
       "                        <td id=\"T_941df_row5_col9\" class=\"data row5 col9\" >14</td>\n",
       "                        <td id=\"T_941df_row5_col10\" class=\"data row5 col10\" >61</td>\n",
       "                        <td id=\"T_941df_row5_col11\" class=\"data row5 col11\" >67</td>\n",
       "                        <td id=\"T_941df_row5_col12\" class=\"data row5 col12\" >49</td>\n",
       "                        <td id=\"T_941df_row5_col13\" class=\"data row5 col13\" >59</td>\n",
       "                        <td id=\"T_941df_row5_col14\" class=\"data row5 col14\" >45</td>\n",
       "                        <td id=\"T_941df_row5_col15\" class=\"data row5 col15\" >12</td>\n",
       "                        <td id=\"T_941df_row5_col16\" class=\"data row5 col16\" >47</td>\n",
       "                        <td id=\"T_941df_row5_col17\" class=\"data row5 col17\" >5</td>\n",
       "                        <td id=\"T_941df_row5_col18\" class=\"data row5 col18\" >0</td>\n",
       "                        <td id=\"T_941df_row5_col19\" class=\"data row5 col19\" >0</td>\n",
       "            </tr>\n",
       "            <tr>\n",
       "                        <th id=\"T_941df_level0_row6\" class=\"row_heading level0 row6\" >6</th>\n",
       "                        <td id=\"T_941df_row6_col0\" class=\"data row6 col0\" >22</td>\n",
       "                        <td id=\"T_941df_row6_col1\" class=\"data row6 col1\" >5</td>\n",
       "                        <td id=\"T_941df_row6_col2\" class=\"data row6 col2\" >21</td>\n",
       "                        <td id=\"T_941df_row6_col3\" class=\"data row6 col3\" >84</td>\n",
       "                        <td id=\"T_941df_row6_col4\" class=\"data row6 col4\" >39</td>\n",
       "                        <td id=\"T_941df_row6_col5\" class=\"data row6 col5\" >6</td>\n",
       "                        <td id=\"T_941df_row6_col6\" class=\"data row6 col6\" >9</td>\n",
       "                        <td id=\"T_941df_row6_col7\" class=\"data row6 col7\" >84</td>\n",
       "                        <td id=\"T_941df_row6_col8\" class=\"data row6 col8\" >36</td>\n",
       "                        <td id=\"T_941df_row6_col9\" class=\"data row6 col9\" >59</td>\n",
       "                        <td id=\"T_941df_row6_col10\" class=\"data row6 col10\" >32</td>\n",
       "                        <td id=\"T_941df_row6_col11\" class=\"data row6 col11\" >30</td>\n",
       "                        <td id=\"T_941df_row6_col12\" class=\"data row6 col12\" >69</td>\n",
       "                        <td id=\"T_941df_row6_col13\" class=\"data row6 col13\" >70</td>\n",
       "                        <td id=\"T_941df_row6_col14\" class=\"data row6 col14\" >82</td>\n",
       "                        <td id=\"T_941df_row6_col15\" class=\"data row6 col15\" >56</td>\n",
       "                        <td id=\"T_941df_row6_col16\" class=\"data row6 col16\" >1</td>\n",
       "                        <td id=\"T_941df_row6_col17\" class=\"data row6 col17\" >0</td>\n",
       "                        <td id=\"T_941df_row6_col18\" class=\"data row6 col18\" >0</td>\n",
       "                        <td id=\"T_941df_row6_col19\" class=\"data row6 col19\" >0</td>\n",
       "            </tr>\n",
       "            <tr>\n",
       "                        <th id=\"T_941df_level0_row7\" class=\"row_heading level0 row7\" >7</th>\n",
       "                        <td id=\"T_941df_row7_col0\" class=\"data row7 col0\" >94</td>\n",
       "                        <td id=\"T_941df_row7_col1\" class=\"data row7 col1\" >21</td>\n",
       "                        <td id=\"T_941df_row7_col2\" class=\"data row7 col2\" >79</td>\n",
       "                        <td id=\"T_941df_row7_col3\" class=\"data row7 col3\" >24</td>\n",
       "                        <td id=\"T_941df_row7_col4\" class=\"data row7 col4\" >3</td>\n",
       "                        <td id=\"T_941df_row7_col5\" class=\"data row7 col5\" >86</td>\n",
       "                        <td id=\"T_941df_row7_col6\" class=\"data row7 col6\" >0</td>\n",
       "                        <td id=\"T_941df_row7_col7\" class=\"data row7 col7\" >0</td>\n",
       "                        <td id=\"T_941df_row7_col8\" class=\"data row7 col8\" >0</td>\n",
       "                        <td id=\"T_941df_row7_col9\" class=\"data row7 col9\" >0</td>\n",
       "                        <td id=\"T_941df_row7_col10\" class=\"data row7 col10\" >0</td>\n",
       "                        <td id=\"T_941df_row7_col11\" class=\"data row7 col11\" >0</td>\n",
       "                        <td id=\"T_941df_row7_col12\" class=\"data row7 col12\" >0</td>\n",
       "                        <td id=\"T_941df_row7_col13\" class=\"data row7 col13\" >0</td>\n",
       "                        <td id=\"T_941df_row7_col14\" class=\"data row7 col14\" >0</td>\n",
       "                        <td id=\"T_941df_row7_col15\" class=\"data row7 col15\" >0</td>\n",
       "                        <td id=\"T_941df_row7_col16\" class=\"data row7 col16\" >0</td>\n",
       "                        <td id=\"T_941df_row7_col17\" class=\"data row7 col17\" >0</td>\n",
       "                        <td id=\"T_941df_row7_col18\" class=\"data row7 col18\" >0</td>\n",
       "                        <td id=\"T_941df_row7_col19\" class=\"data row7 col19\" >0</td>\n",
       "            </tr>\n",
       "            <tr>\n",
       "                        <th id=\"T_941df_level0_row8\" class=\"row_heading level0 row8\" >8</th>\n",
       "                        <td id=\"T_941df_row8_col0\" class=\"data row8 col0\" >80</td>\n",
       "                        <td id=\"T_941df_row8_col1\" class=\"data row8 col1\" >80</td>\n",
       "                        <td id=\"T_941df_row8_col2\" class=\"data row8 col2\" >33</td>\n",
       "                        <td id=\"T_941df_row8_col3\" class=\"data row8 col3\" >63</td>\n",
       "                        <td id=\"T_941df_row8_col4\" class=\"data row8 col4\" >34</td>\n",
       "                        <td id=\"T_941df_row8_col5\" class=\"data row8 col5\" >63</td>\n",
       "                        <td id=\"T_941df_row8_col6\" class=\"data row8 col6\" >0</td>\n",
       "                        <td id=\"T_941df_row8_col7\" class=\"data row8 col7\" >0</td>\n",
       "                        <td id=\"T_941df_row8_col8\" class=\"data row8 col8\" >0</td>\n",
       "                        <td id=\"T_941df_row8_col9\" class=\"data row8 col9\" >0</td>\n",
       "                        <td id=\"T_941df_row8_col10\" class=\"data row8 col10\" >0</td>\n",
       "                        <td id=\"T_941df_row8_col11\" class=\"data row8 col11\" >0</td>\n",
       "                        <td id=\"T_941df_row8_col12\" class=\"data row8 col12\" >0</td>\n",
       "                        <td id=\"T_941df_row8_col13\" class=\"data row8 col13\" >0</td>\n",
       "                        <td id=\"T_941df_row8_col14\" class=\"data row8 col14\" >0</td>\n",
       "                        <td id=\"T_941df_row8_col15\" class=\"data row8 col15\" >0</td>\n",
       "                        <td id=\"T_941df_row8_col16\" class=\"data row8 col16\" >0</td>\n",
       "                        <td id=\"T_941df_row8_col17\" class=\"data row8 col17\" >0</td>\n",
       "                        <td id=\"T_941df_row8_col18\" class=\"data row8 col18\" >0</td>\n",
       "                        <td id=\"T_941df_row8_col19\" class=\"data row8 col19\" >0</td>\n",
       "            </tr>\n",
       "            <tr>\n",
       "                        <th id=\"T_941df_level0_row9\" class=\"row_heading level0 row9\" >9</th>\n",
       "                        <td id=\"T_941df_row9_col0\" class=\"data row9 col0\" >87</td>\n",
       "                        <td id=\"T_941df_row9_col1\" class=\"data row9 col1\" >32</td>\n",
       "                        <td id=\"T_941df_row9_col2\" class=\"data row9 col2\" >79</td>\n",
       "                        <td id=\"T_941df_row9_col3\" class=\"data row9 col3\" >65</td>\n",
       "                        <td id=\"T_941df_row9_col4\" class=\"data row9 col4\" >2</td>\n",
       "                        <td id=\"T_941df_row9_col5\" class=\"data row9 col5\" >96</td>\n",
       "                        <td id=\"T_941df_row9_col6\" class=\"data row9 col6\" >43</td>\n",
       "                        <td id=\"T_941df_row9_col7\" class=\"data row9 col7\" >80</td>\n",
       "                        <td id=\"T_941df_row9_col8\" class=\"data row9 col8\" >85</td>\n",
       "                        <td id=\"T_941df_row9_col9\" class=\"data row9 col9\" >20</td>\n",
       "                        <td id=\"T_941df_row9_col10\" class=\"data row9 col10\" >41</td>\n",
       "                        <td id=\"T_941df_row9_col11\" class=\"data row9 col11\" >52</td>\n",
       "                        <td id=\"T_941df_row9_col12\" class=\"data row9 col12\" >95</td>\n",
       "                        <td id=\"T_941df_row9_col13\" class=\"data row9 col13\" >50</td>\n",
       "                        <td id=\"T_941df_row9_col14\" class=\"data row9 col14\" >35</td>\n",
       "                        <td id=\"T_941df_row9_col15\" class=\"data row9 col15\" >96</td>\n",
       "                        <td id=\"T_941df_row9_col16\" class=\"data row9 col16\" >24</td>\n",
       "                        <td id=\"T_941df_row9_col17\" class=\"data row9 col17\" >80</td>\n",
       "                        <td id=\"T_941df_row9_col18\" class=\"data row9 col18\" >0</td>\n",
       "                        <td id=\"T_941df_row9_col19\" class=\"data row9 col19\" >0</td>\n",
       "            </tr>\n",
       "    </tbody></table>"
      ],
      "text/plain": [
       "<pandas.io.formats.style.Styler at 0x7fe03ebf0790>"
      ]
     },
     "execution_count": 51,
     "metadata": {},
     "output_type": "execute_result"
    }
   ],
   "source": [
    "# 아래와 같이 불필요한 pad 계산이 포함된다.\n",
    "pd.DataFrame(data).style.background_gradient('RdBu', vmin = 0, vmax = 1)"
   ]
  },
  {
   "cell_type": "markdown",
   "id": "innovative-tamil",
   "metadata": {},
   "source": [
    "데이터를 padding 전 원래 길이 기준으로 정렬한다."
   ]
  },
  {
   "cell_type": "code",
   "execution_count": 52,
   "id": "opening-video",
   "metadata": {},
   "outputs": [
    {
     "name": "stdout",
     "output_type": "stream",
     "text": [
      "tensor([[85, 14, 80, 34, 99, 20, 31, 65, 53, 86,  3, 58, 30,  4, 11,  6, 50, 71,\n",
      "         74, 13],\n",
      "        [58, 13, 40, 61, 88, 18, 92, 89,  8, 14, 61, 67, 49, 59, 45, 12, 47,  5,\n",
      "          0,  0],\n",
      "        [87, 32, 79, 65,  2, 96, 43, 80, 85, 20, 41, 52, 95, 50, 35, 96, 24, 80,\n",
      "          0,  0],\n",
      "        [22,  5, 21, 84, 39,  6,  9, 84, 36, 59, 32, 30, 69, 70, 82, 56,  1,  0,\n",
      "          0,  0],\n",
      "        [70, 28, 30, 24, 76, 84, 92, 76, 77, 51,  7, 20, 82, 94, 57,  0,  0,  0,\n",
      "          0,  0],\n",
      "        [19, 83, 88, 22, 57, 40, 75, 82,  4, 46,  0,  0,  0,  0,  0,  0,  0,  0,\n",
      "          0,  0],\n",
      "        [93, 77, 16, 67, 46, 74, 24, 70,  0,  0,  0,  0,  0,  0,  0,  0,  0,  0,\n",
      "          0,  0],\n",
      "        [94, 21, 79, 24,  3, 86,  0,  0,  0,  0,  0,  0,  0,  0,  0,  0,  0,  0,\n",
      "          0,  0],\n",
      "        [80, 80, 33, 63, 34, 63,  0,  0,  0,  0,  0,  0,  0,  0,  0,  0,  0,  0,\n",
      "          0,  0],\n",
      "        [62, 76, 79, 66, 32,  0,  0,  0,  0,  0,  0,  0,  0,  0,  0,  0,  0,  0,\n",
      "          0,  0]])\n",
      "tensor([20, 18, 18, 17, 15, 10,  8,  6,  6,  5])\n"
     ]
    }
   ],
   "source": [
    "sorted_lens, sorted_idx = batch_lens.sort(descending=True)\n",
    "sorted_batch = batch[sorted_idx]\n",
    "\n",
    "print(sorted_batch)\n",
    "print(sorted_lens)"
   ]
  },
  {
   "cell_type": "markdown",
   "id": "physical-moses",
   "metadata": {},
   "source": [
    "아래와 같은 padding 무시 효과를 얻을 수 있다.  \n",
    "RNN 에 input 을 packed sequence 라는 객체로 만들어 넣어주면, 아래에서 0 에 해당하는 영역은 자동으로 계산하지 않게 된다.  "
   ]
  },
  {
   "cell_type": "code",
   "execution_count": 54,
   "id": "floppy-thursday",
   "metadata": {},
   "outputs": [
    {
     "data": {
      "text/html": [
       "<style  type=\"text/css\" >\n",
       "#T_995c0_row0_col0,#T_995c0_row0_col1,#T_995c0_row0_col2,#T_995c0_row0_col3,#T_995c0_row0_col4,#T_995c0_row0_col5,#T_995c0_row0_col6,#T_995c0_row0_col7,#T_995c0_row0_col8,#T_995c0_row0_col9,#T_995c0_row0_col10,#T_995c0_row0_col11,#T_995c0_row0_col12,#T_995c0_row0_col13,#T_995c0_row0_col14,#T_995c0_row0_col15,#T_995c0_row0_col16,#T_995c0_row0_col17,#T_995c0_row0_col18,#T_995c0_row0_col19,#T_995c0_row1_col0,#T_995c0_row1_col1,#T_995c0_row1_col2,#T_995c0_row1_col3,#T_995c0_row1_col4,#T_995c0_row1_col5,#T_995c0_row1_col6,#T_995c0_row1_col7,#T_995c0_row1_col8,#T_995c0_row1_col9,#T_995c0_row1_col10,#T_995c0_row1_col11,#T_995c0_row1_col12,#T_995c0_row1_col13,#T_995c0_row1_col14,#T_995c0_row1_col15,#T_995c0_row1_col16,#T_995c0_row1_col17,#T_995c0_row2_col0,#T_995c0_row2_col1,#T_995c0_row2_col2,#T_995c0_row2_col3,#T_995c0_row2_col4,#T_995c0_row2_col5,#T_995c0_row2_col6,#T_995c0_row2_col7,#T_995c0_row2_col8,#T_995c0_row2_col9,#T_995c0_row2_col10,#T_995c0_row2_col11,#T_995c0_row2_col12,#T_995c0_row2_col13,#T_995c0_row2_col14,#T_995c0_row2_col15,#T_995c0_row2_col16,#T_995c0_row2_col17,#T_995c0_row3_col0,#T_995c0_row3_col1,#T_995c0_row3_col2,#T_995c0_row3_col3,#T_995c0_row3_col4,#T_995c0_row3_col5,#T_995c0_row3_col6,#T_995c0_row3_col7,#T_995c0_row3_col8,#T_995c0_row3_col9,#T_995c0_row3_col10,#T_995c0_row3_col11,#T_995c0_row3_col12,#T_995c0_row3_col13,#T_995c0_row3_col14,#T_995c0_row3_col15,#T_995c0_row3_col16,#T_995c0_row4_col0,#T_995c0_row4_col1,#T_995c0_row4_col2,#T_995c0_row4_col3,#T_995c0_row4_col4,#T_995c0_row4_col5,#T_995c0_row4_col6,#T_995c0_row4_col7,#T_995c0_row4_col8,#T_995c0_row4_col9,#T_995c0_row4_col10,#T_995c0_row4_col11,#T_995c0_row4_col12,#T_995c0_row4_col13,#T_995c0_row4_col14,#T_995c0_row5_col0,#T_995c0_row5_col1,#T_995c0_row5_col2,#T_995c0_row5_col3,#T_995c0_row5_col4,#T_995c0_row5_col5,#T_995c0_row5_col6,#T_995c0_row5_col7,#T_995c0_row5_col8,#T_995c0_row5_col9,#T_995c0_row6_col0,#T_995c0_row6_col1,#T_995c0_row6_col2,#T_995c0_row6_col3,#T_995c0_row6_col4,#T_995c0_row6_col5,#T_995c0_row6_col6,#T_995c0_row6_col7,#T_995c0_row7_col0,#T_995c0_row7_col1,#T_995c0_row7_col2,#T_995c0_row7_col3,#T_995c0_row7_col4,#T_995c0_row7_col5,#T_995c0_row8_col0,#T_995c0_row8_col1,#T_995c0_row8_col2,#T_995c0_row8_col3,#T_995c0_row8_col4,#T_995c0_row8_col5,#T_995c0_row9_col0,#T_995c0_row9_col1,#T_995c0_row9_col2,#T_995c0_row9_col3,#T_995c0_row9_col4{\n",
       "            background-color:  #053061;\n",
       "            color:  #f1f1f1;\n",
       "        }#T_995c0_row1_col18,#T_995c0_row1_col19,#T_995c0_row2_col18,#T_995c0_row2_col19,#T_995c0_row3_col17,#T_995c0_row3_col18,#T_995c0_row3_col19,#T_995c0_row4_col15,#T_995c0_row4_col16,#T_995c0_row4_col17,#T_995c0_row4_col18,#T_995c0_row4_col19,#T_995c0_row5_col10,#T_995c0_row5_col11,#T_995c0_row5_col12,#T_995c0_row5_col13,#T_995c0_row5_col14,#T_995c0_row5_col15,#T_995c0_row5_col16,#T_995c0_row5_col17,#T_995c0_row5_col18,#T_995c0_row5_col19,#T_995c0_row6_col8,#T_995c0_row6_col9,#T_995c0_row6_col10,#T_995c0_row6_col11,#T_995c0_row6_col12,#T_995c0_row6_col13,#T_995c0_row6_col14,#T_995c0_row6_col15,#T_995c0_row6_col16,#T_995c0_row6_col17,#T_995c0_row6_col18,#T_995c0_row6_col19,#T_995c0_row7_col6,#T_995c0_row7_col7,#T_995c0_row7_col8,#T_995c0_row7_col9,#T_995c0_row7_col10,#T_995c0_row7_col11,#T_995c0_row7_col12,#T_995c0_row7_col13,#T_995c0_row7_col14,#T_995c0_row7_col15,#T_995c0_row7_col16,#T_995c0_row7_col17,#T_995c0_row7_col18,#T_995c0_row7_col19,#T_995c0_row8_col6,#T_995c0_row8_col7,#T_995c0_row8_col8,#T_995c0_row8_col9,#T_995c0_row8_col10,#T_995c0_row8_col11,#T_995c0_row8_col12,#T_995c0_row8_col13,#T_995c0_row8_col14,#T_995c0_row8_col15,#T_995c0_row8_col16,#T_995c0_row8_col17,#T_995c0_row8_col18,#T_995c0_row8_col19,#T_995c0_row9_col5,#T_995c0_row9_col6,#T_995c0_row9_col7,#T_995c0_row9_col8,#T_995c0_row9_col9,#T_995c0_row9_col10,#T_995c0_row9_col11,#T_995c0_row9_col12,#T_995c0_row9_col13,#T_995c0_row9_col14,#T_995c0_row9_col15,#T_995c0_row9_col16,#T_995c0_row9_col17,#T_995c0_row9_col18,#T_995c0_row9_col19{\n",
       "            background-color:  #67001f;\n",
       "            color:  #f1f1f1;\n",
       "        }</style><table id=\"T_995c0_\" ><thead>    <tr>        <th class=\"blank level0\" ></th>        <th class=\"col_heading level0 col0\" >0</th>        <th class=\"col_heading level0 col1\" >1</th>        <th class=\"col_heading level0 col2\" >2</th>        <th class=\"col_heading level0 col3\" >3</th>        <th class=\"col_heading level0 col4\" >4</th>        <th class=\"col_heading level0 col5\" >5</th>        <th class=\"col_heading level0 col6\" >6</th>        <th class=\"col_heading level0 col7\" >7</th>        <th class=\"col_heading level0 col8\" >8</th>        <th class=\"col_heading level0 col9\" >9</th>        <th class=\"col_heading level0 col10\" >10</th>        <th class=\"col_heading level0 col11\" >11</th>        <th class=\"col_heading level0 col12\" >12</th>        <th class=\"col_heading level0 col13\" >13</th>        <th class=\"col_heading level0 col14\" >14</th>        <th class=\"col_heading level0 col15\" >15</th>        <th class=\"col_heading level0 col16\" >16</th>        <th class=\"col_heading level0 col17\" >17</th>        <th class=\"col_heading level0 col18\" >18</th>        <th class=\"col_heading level0 col19\" >19</th>    </tr></thead><tbody>\n",
       "                <tr>\n",
       "                        <th id=\"T_995c0_level0_row0\" class=\"row_heading level0 row0\" >0</th>\n",
       "                        <td id=\"T_995c0_row0_col0\" class=\"data row0 col0\" >85</td>\n",
       "                        <td id=\"T_995c0_row0_col1\" class=\"data row0 col1\" >14</td>\n",
       "                        <td id=\"T_995c0_row0_col2\" class=\"data row0 col2\" >80</td>\n",
       "                        <td id=\"T_995c0_row0_col3\" class=\"data row0 col3\" >34</td>\n",
       "                        <td id=\"T_995c0_row0_col4\" class=\"data row0 col4\" >99</td>\n",
       "                        <td id=\"T_995c0_row0_col5\" class=\"data row0 col5\" >20</td>\n",
       "                        <td id=\"T_995c0_row0_col6\" class=\"data row0 col6\" >31</td>\n",
       "                        <td id=\"T_995c0_row0_col7\" class=\"data row0 col7\" >65</td>\n",
       "                        <td id=\"T_995c0_row0_col8\" class=\"data row0 col8\" >53</td>\n",
       "                        <td id=\"T_995c0_row0_col9\" class=\"data row0 col9\" >86</td>\n",
       "                        <td id=\"T_995c0_row0_col10\" class=\"data row0 col10\" >3</td>\n",
       "                        <td id=\"T_995c0_row0_col11\" class=\"data row0 col11\" >58</td>\n",
       "                        <td id=\"T_995c0_row0_col12\" class=\"data row0 col12\" >30</td>\n",
       "                        <td id=\"T_995c0_row0_col13\" class=\"data row0 col13\" >4</td>\n",
       "                        <td id=\"T_995c0_row0_col14\" class=\"data row0 col14\" >11</td>\n",
       "                        <td id=\"T_995c0_row0_col15\" class=\"data row0 col15\" >6</td>\n",
       "                        <td id=\"T_995c0_row0_col16\" class=\"data row0 col16\" >50</td>\n",
       "                        <td id=\"T_995c0_row0_col17\" class=\"data row0 col17\" >71</td>\n",
       "                        <td id=\"T_995c0_row0_col18\" class=\"data row0 col18\" >74</td>\n",
       "                        <td id=\"T_995c0_row0_col19\" class=\"data row0 col19\" >13</td>\n",
       "            </tr>\n",
       "            <tr>\n",
       "                        <th id=\"T_995c0_level0_row1\" class=\"row_heading level0 row1\" >1</th>\n",
       "                        <td id=\"T_995c0_row1_col0\" class=\"data row1 col0\" >58</td>\n",
       "                        <td id=\"T_995c0_row1_col1\" class=\"data row1 col1\" >13</td>\n",
       "                        <td id=\"T_995c0_row1_col2\" class=\"data row1 col2\" >40</td>\n",
       "                        <td id=\"T_995c0_row1_col3\" class=\"data row1 col3\" >61</td>\n",
       "                        <td id=\"T_995c0_row1_col4\" class=\"data row1 col4\" >88</td>\n",
       "                        <td id=\"T_995c0_row1_col5\" class=\"data row1 col5\" >18</td>\n",
       "                        <td id=\"T_995c0_row1_col6\" class=\"data row1 col6\" >92</td>\n",
       "                        <td id=\"T_995c0_row1_col7\" class=\"data row1 col7\" >89</td>\n",
       "                        <td id=\"T_995c0_row1_col8\" class=\"data row1 col8\" >8</td>\n",
       "                        <td id=\"T_995c0_row1_col9\" class=\"data row1 col9\" >14</td>\n",
       "                        <td id=\"T_995c0_row1_col10\" class=\"data row1 col10\" >61</td>\n",
       "                        <td id=\"T_995c0_row1_col11\" class=\"data row1 col11\" >67</td>\n",
       "                        <td id=\"T_995c0_row1_col12\" class=\"data row1 col12\" >49</td>\n",
       "                        <td id=\"T_995c0_row1_col13\" class=\"data row1 col13\" >59</td>\n",
       "                        <td id=\"T_995c0_row1_col14\" class=\"data row1 col14\" >45</td>\n",
       "                        <td id=\"T_995c0_row1_col15\" class=\"data row1 col15\" >12</td>\n",
       "                        <td id=\"T_995c0_row1_col16\" class=\"data row1 col16\" >47</td>\n",
       "                        <td id=\"T_995c0_row1_col17\" class=\"data row1 col17\" >5</td>\n",
       "                        <td id=\"T_995c0_row1_col18\" class=\"data row1 col18\" >0</td>\n",
       "                        <td id=\"T_995c0_row1_col19\" class=\"data row1 col19\" >0</td>\n",
       "            </tr>\n",
       "            <tr>\n",
       "                        <th id=\"T_995c0_level0_row2\" class=\"row_heading level0 row2\" >2</th>\n",
       "                        <td id=\"T_995c0_row2_col0\" class=\"data row2 col0\" >87</td>\n",
       "                        <td id=\"T_995c0_row2_col1\" class=\"data row2 col1\" >32</td>\n",
       "                        <td id=\"T_995c0_row2_col2\" class=\"data row2 col2\" >79</td>\n",
       "                        <td id=\"T_995c0_row2_col3\" class=\"data row2 col3\" >65</td>\n",
       "                        <td id=\"T_995c0_row2_col4\" class=\"data row2 col4\" >2</td>\n",
       "                        <td id=\"T_995c0_row2_col5\" class=\"data row2 col5\" >96</td>\n",
       "                        <td id=\"T_995c0_row2_col6\" class=\"data row2 col6\" >43</td>\n",
       "                        <td id=\"T_995c0_row2_col7\" class=\"data row2 col7\" >80</td>\n",
       "                        <td id=\"T_995c0_row2_col8\" class=\"data row2 col8\" >85</td>\n",
       "                        <td id=\"T_995c0_row2_col9\" class=\"data row2 col9\" >20</td>\n",
       "                        <td id=\"T_995c0_row2_col10\" class=\"data row2 col10\" >41</td>\n",
       "                        <td id=\"T_995c0_row2_col11\" class=\"data row2 col11\" >52</td>\n",
       "                        <td id=\"T_995c0_row2_col12\" class=\"data row2 col12\" >95</td>\n",
       "                        <td id=\"T_995c0_row2_col13\" class=\"data row2 col13\" >50</td>\n",
       "                        <td id=\"T_995c0_row2_col14\" class=\"data row2 col14\" >35</td>\n",
       "                        <td id=\"T_995c0_row2_col15\" class=\"data row2 col15\" >96</td>\n",
       "                        <td id=\"T_995c0_row2_col16\" class=\"data row2 col16\" >24</td>\n",
       "                        <td id=\"T_995c0_row2_col17\" class=\"data row2 col17\" >80</td>\n",
       "                        <td id=\"T_995c0_row2_col18\" class=\"data row2 col18\" >0</td>\n",
       "                        <td id=\"T_995c0_row2_col19\" class=\"data row2 col19\" >0</td>\n",
       "            </tr>\n",
       "            <tr>\n",
       "                        <th id=\"T_995c0_level0_row3\" class=\"row_heading level0 row3\" >3</th>\n",
       "                        <td id=\"T_995c0_row3_col0\" class=\"data row3 col0\" >22</td>\n",
       "                        <td id=\"T_995c0_row3_col1\" class=\"data row3 col1\" >5</td>\n",
       "                        <td id=\"T_995c0_row3_col2\" class=\"data row3 col2\" >21</td>\n",
       "                        <td id=\"T_995c0_row3_col3\" class=\"data row3 col3\" >84</td>\n",
       "                        <td id=\"T_995c0_row3_col4\" class=\"data row3 col4\" >39</td>\n",
       "                        <td id=\"T_995c0_row3_col5\" class=\"data row3 col5\" >6</td>\n",
       "                        <td id=\"T_995c0_row3_col6\" class=\"data row3 col6\" >9</td>\n",
       "                        <td id=\"T_995c0_row3_col7\" class=\"data row3 col7\" >84</td>\n",
       "                        <td id=\"T_995c0_row3_col8\" class=\"data row3 col8\" >36</td>\n",
       "                        <td id=\"T_995c0_row3_col9\" class=\"data row3 col9\" >59</td>\n",
       "                        <td id=\"T_995c0_row3_col10\" class=\"data row3 col10\" >32</td>\n",
       "                        <td id=\"T_995c0_row3_col11\" class=\"data row3 col11\" >30</td>\n",
       "                        <td id=\"T_995c0_row3_col12\" class=\"data row3 col12\" >69</td>\n",
       "                        <td id=\"T_995c0_row3_col13\" class=\"data row3 col13\" >70</td>\n",
       "                        <td id=\"T_995c0_row3_col14\" class=\"data row3 col14\" >82</td>\n",
       "                        <td id=\"T_995c0_row3_col15\" class=\"data row3 col15\" >56</td>\n",
       "                        <td id=\"T_995c0_row3_col16\" class=\"data row3 col16\" >1</td>\n",
       "                        <td id=\"T_995c0_row3_col17\" class=\"data row3 col17\" >0</td>\n",
       "                        <td id=\"T_995c0_row3_col18\" class=\"data row3 col18\" >0</td>\n",
       "                        <td id=\"T_995c0_row3_col19\" class=\"data row3 col19\" >0</td>\n",
       "            </tr>\n",
       "            <tr>\n",
       "                        <th id=\"T_995c0_level0_row4\" class=\"row_heading level0 row4\" >4</th>\n",
       "                        <td id=\"T_995c0_row4_col0\" class=\"data row4 col0\" >70</td>\n",
       "                        <td id=\"T_995c0_row4_col1\" class=\"data row4 col1\" >28</td>\n",
       "                        <td id=\"T_995c0_row4_col2\" class=\"data row4 col2\" >30</td>\n",
       "                        <td id=\"T_995c0_row4_col3\" class=\"data row4 col3\" >24</td>\n",
       "                        <td id=\"T_995c0_row4_col4\" class=\"data row4 col4\" >76</td>\n",
       "                        <td id=\"T_995c0_row4_col5\" class=\"data row4 col5\" >84</td>\n",
       "                        <td id=\"T_995c0_row4_col6\" class=\"data row4 col6\" >92</td>\n",
       "                        <td id=\"T_995c0_row4_col7\" class=\"data row4 col7\" >76</td>\n",
       "                        <td id=\"T_995c0_row4_col8\" class=\"data row4 col8\" >77</td>\n",
       "                        <td id=\"T_995c0_row4_col9\" class=\"data row4 col9\" >51</td>\n",
       "                        <td id=\"T_995c0_row4_col10\" class=\"data row4 col10\" >7</td>\n",
       "                        <td id=\"T_995c0_row4_col11\" class=\"data row4 col11\" >20</td>\n",
       "                        <td id=\"T_995c0_row4_col12\" class=\"data row4 col12\" >82</td>\n",
       "                        <td id=\"T_995c0_row4_col13\" class=\"data row4 col13\" >94</td>\n",
       "                        <td id=\"T_995c0_row4_col14\" class=\"data row4 col14\" >57</td>\n",
       "                        <td id=\"T_995c0_row4_col15\" class=\"data row4 col15\" >0</td>\n",
       "                        <td id=\"T_995c0_row4_col16\" class=\"data row4 col16\" >0</td>\n",
       "                        <td id=\"T_995c0_row4_col17\" class=\"data row4 col17\" >0</td>\n",
       "                        <td id=\"T_995c0_row4_col18\" class=\"data row4 col18\" >0</td>\n",
       "                        <td id=\"T_995c0_row4_col19\" class=\"data row4 col19\" >0</td>\n",
       "            </tr>\n",
       "            <tr>\n",
       "                        <th id=\"T_995c0_level0_row5\" class=\"row_heading level0 row5\" >5</th>\n",
       "                        <td id=\"T_995c0_row5_col0\" class=\"data row5 col0\" >19</td>\n",
       "                        <td id=\"T_995c0_row5_col1\" class=\"data row5 col1\" >83</td>\n",
       "                        <td id=\"T_995c0_row5_col2\" class=\"data row5 col2\" >88</td>\n",
       "                        <td id=\"T_995c0_row5_col3\" class=\"data row5 col3\" >22</td>\n",
       "                        <td id=\"T_995c0_row5_col4\" class=\"data row5 col4\" >57</td>\n",
       "                        <td id=\"T_995c0_row5_col5\" class=\"data row5 col5\" >40</td>\n",
       "                        <td id=\"T_995c0_row5_col6\" class=\"data row5 col6\" >75</td>\n",
       "                        <td id=\"T_995c0_row5_col7\" class=\"data row5 col7\" >82</td>\n",
       "                        <td id=\"T_995c0_row5_col8\" class=\"data row5 col8\" >4</td>\n",
       "                        <td id=\"T_995c0_row5_col9\" class=\"data row5 col9\" >46</td>\n",
       "                        <td id=\"T_995c0_row5_col10\" class=\"data row5 col10\" >0</td>\n",
       "                        <td id=\"T_995c0_row5_col11\" class=\"data row5 col11\" >0</td>\n",
       "                        <td id=\"T_995c0_row5_col12\" class=\"data row5 col12\" >0</td>\n",
       "                        <td id=\"T_995c0_row5_col13\" class=\"data row5 col13\" >0</td>\n",
       "                        <td id=\"T_995c0_row5_col14\" class=\"data row5 col14\" >0</td>\n",
       "                        <td id=\"T_995c0_row5_col15\" class=\"data row5 col15\" >0</td>\n",
       "                        <td id=\"T_995c0_row5_col16\" class=\"data row5 col16\" >0</td>\n",
       "                        <td id=\"T_995c0_row5_col17\" class=\"data row5 col17\" >0</td>\n",
       "                        <td id=\"T_995c0_row5_col18\" class=\"data row5 col18\" >0</td>\n",
       "                        <td id=\"T_995c0_row5_col19\" class=\"data row5 col19\" >0</td>\n",
       "            </tr>\n",
       "            <tr>\n",
       "                        <th id=\"T_995c0_level0_row6\" class=\"row_heading level0 row6\" >6</th>\n",
       "                        <td id=\"T_995c0_row6_col0\" class=\"data row6 col0\" >93</td>\n",
       "                        <td id=\"T_995c0_row6_col1\" class=\"data row6 col1\" >77</td>\n",
       "                        <td id=\"T_995c0_row6_col2\" class=\"data row6 col2\" >16</td>\n",
       "                        <td id=\"T_995c0_row6_col3\" class=\"data row6 col3\" >67</td>\n",
       "                        <td id=\"T_995c0_row6_col4\" class=\"data row6 col4\" >46</td>\n",
       "                        <td id=\"T_995c0_row6_col5\" class=\"data row6 col5\" >74</td>\n",
       "                        <td id=\"T_995c0_row6_col6\" class=\"data row6 col6\" >24</td>\n",
       "                        <td id=\"T_995c0_row6_col7\" class=\"data row6 col7\" >70</td>\n",
       "                        <td id=\"T_995c0_row6_col8\" class=\"data row6 col8\" >0</td>\n",
       "                        <td id=\"T_995c0_row6_col9\" class=\"data row6 col9\" >0</td>\n",
       "                        <td id=\"T_995c0_row6_col10\" class=\"data row6 col10\" >0</td>\n",
       "                        <td id=\"T_995c0_row6_col11\" class=\"data row6 col11\" >0</td>\n",
       "                        <td id=\"T_995c0_row6_col12\" class=\"data row6 col12\" >0</td>\n",
       "                        <td id=\"T_995c0_row6_col13\" class=\"data row6 col13\" >0</td>\n",
       "                        <td id=\"T_995c0_row6_col14\" class=\"data row6 col14\" >0</td>\n",
       "                        <td id=\"T_995c0_row6_col15\" class=\"data row6 col15\" >0</td>\n",
       "                        <td id=\"T_995c0_row6_col16\" class=\"data row6 col16\" >0</td>\n",
       "                        <td id=\"T_995c0_row6_col17\" class=\"data row6 col17\" >0</td>\n",
       "                        <td id=\"T_995c0_row6_col18\" class=\"data row6 col18\" >0</td>\n",
       "                        <td id=\"T_995c0_row6_col19\" class=\"data row6 col19\" >0</td>\n",
       "            </tr>\n",
       "            <tr>\n",
       "                        <th id=\"T_995c0_level0_row7\" class=\"row_heading level0 row7\" >7</th>\n",
       "                        <td id=\"T_995c0_row7_col0\" class=\"data row7 col0\" >94</td>\n",
       "                        <td id=\"T_995c0_row7_col1\" class=\"data row7 col1\" >21</td>\n",
       "                        <td id=\"T_995c0_row7_col2\" class=\"data row7 col2\" >79</td>\n",
       "                        <td id=\"T_995c0_row7_col3\" class=\"data row7 col3\" >24</td>\n",
       "                        <td id=\"T_995c0_row7_col4\" class=\"data row7 col4\" >3</td>\n",
       "                        <td id=\"T_995c0_row7_col5\" class=\"data row7 col5\" >86</td>\n",
       "                        <td id=\"T_995c0_row7_col6\" class=\"data row7 col6\" >0</td>\n",
       "                        <td id=\"T_995c0_row7_col7\" class=\"data row7 col7\" >0</td>\n",
       "                        <td id=\"T_995c0_row7_col8\" class=\"data row7 col8\" >0</td>\n",
       "                        <td id=\"T_995c0_row7_col9\" class=\"data row7 col9\" >0</td>\n",
       "                        <td id=\"T_995c0_row7_col10\" class=\"data row7 col10\" >0</td>\n",
       "                        <td id=\"T_995c0_row7_col11\" class=\"data row7 col11\" >0</td>\n",
       "                        <td id=\"T_995c0_row7_col12\" class=\"data row7 col12\" >0</td>\n",
       "                        <td id=\"T_995c0_row7_col13\" class=\"data row7 col13\" >0</td>\n",
       "                        <td id=\"T_995c0_row7_col14\" class=\"data row7 col14\" >0</td>\n",
       "                        <td id=\"T_995c0_row7_col15\" class=\"data row7 col15\" >0</td>\n",
       "                        <td id=\"T_995c0_row7_col16\" class=\"data row7 col16\" >0</td>\n",
       "                        <td id=\"T_995c0_row7_col17\" class=\"data row7 col17\" >0</td>\n",
       "                        <td id=\"T_995c0_row7_col18\" class=\"data row7 col18\" >0</td>\n",
       "                        <td id=\"T_995c0_row7_col19\" class=\"data row7 col19\" >0</td>\n",
       "            </tr>\n",
       "            <tr>\n",
       "                        <th id=\"T_995c0_level0_row8\" class=\"row_heading level0 row8\" >8</th>\n",
       "                        <td id=\"T_995c0_row8_col0\" class=\"data row8 col0\" >80</td>\n",
       "                        <td id=\"T_995c0_row8_col1\" class=\"data row8 col1\" >80</td>\n",
       "                        <td id=\"T_995c0_row8_col2\" class=\"data row8 col2\" >33</td>\n",
       "                        <td id=\"T_995c0_row8_col3\" class=\"data row8 col3\" >63</td>\n",
       "                        <td id=\"T_995c0_row8_col4\" class=\"data row8 col4\" >34</td>\n",
       "                        <td id=\"T_995c0_row8_col5\" class=\"data row8 col5\" >63</td>\n",
       "                        <td id=\"T_995c0_row8_col6\" class=\"data row8 col6\" >0</td>\n",
       "                        <td id=\"T_995c0_row8_col7\" class=\"data row8 col7\" >0</td>\n",
       "                        <td id=\"T_995c0_row8_col8\" class=\"data row8 col8\" >0</td>\n",
       "                        <td id=\"T_995c0_row8_col9\" class=\"data row8 col9\" >0</td>\n",
       "                        <td id=\"T_995c0_row8_col10\" class=\"data row8 col10\" >0</td>\n",
       "                        <td id=\"T_995c0_row8_col11\" class=\"data row8 col11\" >0</td>\n",
       "                        <td id=\"T_995c0_row8_col12\" class=\"data row8 col12\" >0</td>\n",
       "                        <td id=\"T_995c0_row8_col13\" class=\"data row8 col13\" >0</td>\n",
       "                        <td id=\"T_995c0_row8_col14\" class=\"data row8 col14\" >0</td>\n",
       "                        <td id=\"T_995c0_row8_col15\" class=\"data row8 col15\" >0</td>\n",
       "                        <td id=\"T_995c0_row8_col16\" class=\"data row8 col16\" >0</td>\n",
       "                        <td id=\"T_995c0_row8_col17\" class=\"data row8 col17\" >0</td>\n",
       "                        <td id=\"T_995c0_row8_col18\" class=\"data row8 col18\" >0</td>\n",
       "                        <td id=\"T_995c0_row8_col19\" class=\"data row8 col19\" >0</td>\n",
       "            </tr>\n",
       "            <tr>\n",
       "                        <th id=\"T_995c0_level0_row9\" class=\"row_heading level0 row9\" >9</th>\n",
       "                        <td id=\"T_995c0_row9_col0\" class=\"data row9 col0\" >62</td>\n",
       "                        <td id=\"T_995c0_row9_col1\" class=\"data row9 col1\" >76</td>\n",
       "                        <td id=\"T_995c0_row9_col2\" class=\"data row9 col2\" >79</td>\n",
       "                        <td id=\"T_995c0_row9_col3\" class=\"data row9 col3\" >66</td>\n",
       "                        <td id=\"T_995c0_row9_col4\" class=\"data row9 col4\" >32</td>\n",
       "                        <td id=\"T_995c0_row9_col5\" class=\"data row9 col5\" >0</td>\n",
       "                        <td id=\"T_995c0_row9_col6\" class=\"data row9 col6\" >0</td>\n",
       "                        <td id=\"T_995c0_row9_col7\" class=\"data row9 col7\" >0</td>\n",
       "                        <td id=\"T_995c0_row9_col8\" class=\"data row9 col8\" >0</td>\n",
       "                        <td id=\"T_995c0_row9_col9\" class=\"data row9 col9\" >0</td>\n",
       "                        <td id=\"T_995c0_row9_col10\" class=\"data row9 col10\" >0</td>\n",
       "                        <td id=\"T_995c0_row9_col11\" class=\"data row9 col11\" >0</td>\n",
       "                        <td id=\"T_995c0_row9_col12\" class=\"data row9 col12\" >0</td>\n",
       "                        <td id=\"T_995c0_row9_col13\" class=\"data row9 col13\" >0</td>\n",
       "                        <td id=\"T_995c0_row9_col14\" class=\"data row9 col14\" >0</td>\n",
       "                        <td id=\"T_995c0_row9_col15\" class=\"data row9 col15\" >0</td>\n",
       "                        <td id=\"T_995c0_row9_col16\" class=\"data row9 col16\" >0</td>\n",
       "                        <td id=\"T_995c0_row9_col17\" class=\"data row9 col17\" >0</td>\n",
       "                        <td id=\"T_995c0_row9_col18\" class=\"data row9 col18\" >0</td>\n",
       "                        <td id=\"T_995c0_row9_col19\" class=\"data row9 col19\" >0</td>\n",
       "            </tr>\n",
       "    </tbody></table>"
      ],
      "text/plain": [
       "<pandas.io.formats.style.Styler at 0x7fe03ebe21d0>"
      ]
     },
     "execution_count": 54,
     "metadata": {},
     "output_type": "execute_result"
    }
   ],
   "source": [
    "pd.DataFrame(sorted_batch.tolist()).style.background_gradient('RdBu', vmin = 0, vmax = 1)"
   ]
  },
  {
   "cell_type": "markdown",
   "id": "genuine-representative",
   "metadata": {},
   "source": [
    "`pack_padded_sequence` 를 이용하여 PackedSequence object 를 사용한다."
   ]
  },
  {
   "cell_type": "code",
   "execution_count": 55,
   "id": "suspected-partner",
   "metadata": {},
   "outputs": [
    {
     "name": "stdout",
     "output_type": "stream",
     "text": [
      "PackedSequence(data=tensor([[-0.6163,  0.9768,  0.2852,  ...,  0.1052,  1.3940, -1.2653],\n",
      "        [ 1.7534, -0.9487, -0.0567,  ..., -0.6138, -0.9746,  2.8041],\n",
      "        [-0.0942,  2.2334,  0.4825,  ..., -0.2707,  1.2072, -0.7752],\n",
      "        ...,\n",
      "        [-0.2854,  0.4955,  0.2762,  ..., -1.4020, -1.2778, -1.0994],\n",
      "        [ 0.7942, -0.2181, -0.6577,  ..., -0.6027,  1.7972, -0.3280],\n",
      "        [-0.4974, -1.5743, -1.5898,  ...,  0.5070, -0.4136, -0.9620]],\n",
      "       grad_fn=<PackPaddedSequenceBackward>), batch_sizes=tensor([10, 10, 10, 10, 10,  9,  7,  7,  6,  6,  5,  5,  5,  5,  5,  4,  4,  3,\n",
      "         1,  1]), sorted_indices=None, unsorted_indices=None)\n",
      "torch.Size([123, 256])\n"
     ]
    }
   ],
   "source": [
    "sorted_batch_emb = embedding(sorted_batch)\n",
    "# pack sequence object \n",
    "packed_batch = pack_padded_sequence(sorted_batch_emb.transpose(0,1), sorted_lens)\n",
    "\n",
    "print(packed_batch)\n",
    "print(packed_batch[0].shape)"
   ]
  },
  {
   "cell_type": "code",
   "execution_count": 56,
   "id": "south-wonder",
   "metadata": {},
   "outputs": [
    {
     "name": "stdout",
     "output_type": "stream",
     "text": [
      "PackedSequence(data=tensor([[ 0.1980, -0.6953, -0.2958,  ..., -0.2694, -0.4174,  0.5128],\n",
      "        [-0.3357, -0.3658, -0.2823,  ..., -0.1293, -0.4792, -0.4755],\n",
      "        [-0.4251, -0.3122,  0.6325,  ...,  0.3370, -0.2857,  0.6781],\n",
      "        ...,\n",
      "        [-0.2350,  0.8144, -0.3755,  ..., -0.0812, -0.5510, -0.1808],\n",
      "        [ 0.6373,  0.6065, -0.0921,  ...,  0.2328,  0.1297, -0.6605],\n",
      "        [ 0.0611,  0.3073,  0.4836,  ...,  0.1780, -0.6562, -0.3389]],\n",
      "       grad_fn=<CatBackward>), batch_sizes=tensor([10, 10, 10, 10, 10,  9,  7,  7,  6,  6,  5,  5,  5,  5,  5,  4,  4,  3,\n",
      "         1,  1]), sorted_indices=None, unsorted_indices=None)\n",
      "torch.Size([123, 512])\n",
      "torch.Size([1, 10, 512])\n"
     ]
    }
   ],
   "source": [
    "packed_outputs, h_n = rnn(packed_batch, h_0)\n",
    "\n",
    "print(packed_outputs)\n",
    "print(packed_outputs[0].shape)\n",
    "print(h_n.shape)\n",
    "# rnn 에 넣어도 output 이 pack sequence 로 나오게 된다."
   ]
  },
  {
   "cell_type": "markdown",
   "id": "greatest-ancient",
   "metadata": {},
   "source": [
    "`packed_output` 은 PackedSequence 이므로 원래 output 형태와 다르다.  \n",
    "이를 다시 원래 형태로 바꿔주기 위해 `pad_packed_sequence` 를 이용한다."
   ]
  },
  {
   "cell_type": "code",
   "execution_count": 59,
   "id": "detailed-henry",
   "metadata": {},
   "outputs": [
    {
     "name": "stdout",
     "output_type": "stream",
     "text": [
      "torch.Size([20, 10, 512])\n",
      "tensor([20, 18, 18, 17, 15, 10,  8,  6,  6,  5])\n"
     ]
    }
   ],
   "source": [
    "outputs, outputs_lens = pad_packed_sequence(packed_outputs)\n",
    "\n",
    "print(outputs.shape) # (L, B, d_h)\n",
    "print(outputs_lens)"
   ]
  },
  {
   "cell_type": "code",
   "execution_count": null,
   "id": "tested-flooring",
   "metadata": {},
   "outputs": [],
   "source": []
  }
 ],
 "metadata": {
  "kernelspec": {
   "display_name": "Python 3",
   "language": "python",
   "name": "python3"
  },
  "language_info": {
   "codemirror_mode": {
    "name": "ipython",
    "version": 3
   },
   "file_extension": ".py",
   "mimetype": "text/x-python",
   "name": "python",
   "nbconvert_exporter": "python",
   "pygments_lexer": "ipython3",
   "version": "3.7.9"
  },
  "toc": {
   "base_numbering": 1,
   "nav_menu": {},
   "number_sections": true,
   "sideBar": true,
   "skip_h1_title": false,
   "title_cell": "Table of Contents",
   "title_sidebar": "Contents",
   "toc_cell": false,
   "toc_position": {},
   "toc_section_display": true,
   "toc_window_display": false
  },
  "varInspector": {
   "cols": {
    "lenName": 16,
    "lenType": 16,
    "lenVar": 40
   },
   "kernels_config": {
    "python": {
     "delete_cmd_postfix": "",
     "delete_cmd_prefix": "del ",
     "library": "var_list.py",
     "varRefreshCmd": "print(var_dic_list())"
    },
    "r": {
     "delete_cmd_postfix": ") ",
     "delete_cmd_prefix": "rm(",
     "library": "var_list.r",
     "varRefreshCmd": "cat(var_dic_list()) "
    }
   },
   "types_to_exclude": [
    "module",
    "function",
    "builtin_function_or_method",
    "instance",
    "_Feature"
   ],
   "window_display": false
  }
 },
 "nbformat": 4,
 "nbformat_minor": 5
}
