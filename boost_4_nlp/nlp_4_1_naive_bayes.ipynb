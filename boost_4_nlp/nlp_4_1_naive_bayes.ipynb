{
 "cells": [
  {
   "cell_type": "markdown",
   "id": "moved-medication",
   "metadata": {},
   "source": [
    "# NaiveBayes Classifier\n",
    "\n",
    "1. 주어진 데이터를 전처리한다.\n",
    "2. NaiveBayes 분류기 모델을 구현하고 학습 데이터로 이를 학습시킨다.\n",
    "3. Test case 로 결과를 확인한다."
   ]
  },
  {
   "cell_type": "markdown",
   "id": "unlikely-recall",
   "metadata": {},
   "source": [
    "## 라이브러리"
   ]
  },
  {
   "cell_type": "code",
   "execution_count": 1,
   "id": "recent-aging",
   "metadata": {},
   "outputs": [
    {
     "name": "stdout",
     "output_type": "stream",
     "text": [
      "Collecting konlpy\n",
      "  Downloading konlpy-0.5.2-py2.py3-none-any.whl (19.4 MB)\n",
      "\u001b[K     |████████████████████████████████| 19.4 MB 510 kB/s eta 0:00:01\n",
      "\u001b[?25hRequirement already satisfied: lxml>=4.1.0 in /Users/madquer/opt/anaconda3/envs/data/lib/python3.7/site-packages (from konlpy) (4.6.2)\n",
      "Requirement already satisfied: numpy>=1.6 in /Users/madquer/opt/anaconda3/envs/data/lib/python3.7/site-packages (from konlpy) (1.19.2)\n",
      "Requirement already satisfied: colorama in /Users/madquer/opt/anaconda3/envs/data/lib/python3.7/site-packages (from konlpy) (0.4.4)\n",
      "Collecting beautifulsoup4==4.6.0\n",
      "  Downloading beautifulsoup4-4.6.0-py3-none-any.whl (86 kB)\n",
      "\u001b[K     |████████████████████████████████| 86 kB 833 kB/s eta 0:00:01\n",
      "\u001b[?25hCollecting JPype1>=0.7.0\n",
      "  Downloading JPype1-1.2.1-cp37-cp37m-macosx_10_9_x86_64.whl (377 kB)\n",
      "\u001b[K     |████████████████████████████████| 377 kB 925 kB/s eta 0:00:01\n",
      "\u001b[?25hRequirement already satisfied: typing-extensions in /Users/madquer/opt/anaconda3/envs/data/lib/python3.7/site-packages (from JPype1>=0.7.0->konlpy) (3.7.4.3)\n",
      "Collecting tweepy>=3.7.0\n",
      "  Downloading tweepy-3.10.0-py2.py3-none-any.whl (30 kB)\n",
      "Requirement already satisfied: requests-oauthlib>=0.7.0 in /Users/madquer/opt/anaconda3/envs/data/lib/python3.7/site-packages (from tweepy>=3.7.0->konlpy) (1.3.0)\n",
      "Requirement already satisfied: six>=1.10.0 in /Users/madquer/opt/anaconda3/envs/data/lib/python3.7/site-packages (from tweepy>=3.7.0->konlpy) (1.15.0)\n",
      "Requirement already satisfied: requests[socks]>=2.11.1 in /Users/madquer/opt/anaconda3/envs/data/lib/python3.7/site-packages (from tweepy>=3.7.0->konlpy) (2.25.1)\n",
      "Requirement already satisfied: oauthlib>=3.0.0 in /Users/madquer/opt/anaconda3/envs/data/lib/python3.7/site-packages (from requests-oauthlib>=0.7.0->tweepy>=3.7.0->konlpy) (3.1.0)\n",
      "Requirement already satisfied: certifi>=2017.4.17 in /Users/madquer/opt/anaconda3/envs/data/lib/python3.7/site-packages (from requests[socks]>=2.11.1->tweepy>=3.7.0->konlpy) (2020.6.20)\n",
      "Requirement already satisfied: idna<3,>=2.5 in /Users/madquer/opt/anaconda3/envs/data/lib/python3.7/site-packages (from requests[socks]>=2.11.1->tweepy>=3.7.0->konlpy) (2.10)\n",
      "Requirement already satisfied: chardet<5,>=3.0.2 in /Users/madquer/opt/anaconda3/envs/data/lib/python3.7/site-packages (from requests[socks]>=2.11.1->tweepy>=3.7.0->konlpy) (4.0.0)\n",
      "Requirement already satisfied: urllib3<1.27,>=1.21.1 in /Users/madquer/opt/anaconda3/envs/data/lib/python3.7/site-packages (from requests[socks]>=2.11.1->tweepy>=3.7.0->konlpy) (1.26.3)\n",
      "Requirement already satisfied: PySocks!=1.5.7,>=1.5.6 in /Users/madquer/opt/anaconda3/envs/data/lib/python3.7/site-packages (from requests[socks]>=2.11.1->tweepy>=3.7.0->konlpy) (1.7.1)\n",
      "Installing collected packages: tweepy, JPype1, beautifulsoup4, konlpy\n",
      "Successfully installed JPype1-1.2.1 beautifulsoup4-4.6.0 konlpy-0.5.2 tweepy-3.10.0\n"
     ]
    }
   ],
   "source": [
    "# konlpy 설치\n",
    "!pip3 install konlpy"
   ]
  },
  {
   "cell_type": "code",
   "execution_count": 2,
   "id": "spare-lover",
   "metadata": {},
   "outputs": [],
   "source": [
    "from tqdm import tqdm\n",
    "# 다양한 한국어 형태소 분석기가 클래스로 구현되어 있음\n",
    "from konlpy import tag\n",
    "from collections import defaultdict\n",
    "import math\n",
    "import warnings\n",
    "warnings.filterwarnings('ignore')"
   ]
  },
  {
   "cell_type": "markdown",
   "id": "sharp-prayer",
   "metadata": {},
   "source": [
    "## 학습 및 테스트 데이터 전처리\n",
    "\n",
    "Sample 데이터를 확인한다.\n",
    "긍정(1), 부정(0) 2가지 class 로 되어 있다."
   ]
  },
  {
   "cell_type": "code",
   "execution_count": 3,
   "id": "functional-forwarding",
   "metadata": {},
   "outputs": [],
   "source": [
    "train_data = [\n",
    "  \"정말 맛있습니다. 추천합니다.\",\n",
    "  \"기대했던 것보단 별로였네요.\",\n",
    "  \"다 좋은데 가격이 너무 비싸서 다시 가고 싶다는 생각이 안 드네요.\",\n",
    "  \"완전 최고입니다! 재방문 의사 있습니다.\",\n",
    "  \"음식도 서비스도 다 만족스러웠습니다.\",\n",
    "  \"위생 상태가 좀 별로였습니다. 좀 더 개선되기를 바랍니다.\",\n",
    "  \"맛도 좋았고 직원분들 서비스도 너무 친절했습니다.\",\n",
    "  \"기념일에 방문했는데 음식도 분위기도 서비스도 다 좋았습니다.\",\n",
    "  \"전반적으로 음식이 너무 짰습니다. 저는 별로였네요.\",\n",
    "  \"위생에 조금 더 신경 썼으면 좋겠습니다. 조금 불쾌했습니다.\"\n",
    "]\n",
    "train_labels = [1, 0, 0, 1, 1, 0, 1, 1, 0, 0]\n",
    "\n",
    "test_data = [\n",
    "  \"정말 좋았습니다. 또 가고 싶네요.\",\n",
    "  \"별로였습니다. 되도록 가지 마세요.\",\n",
    "  \"다른 분들께도 추천드릴 수 있을 만큼 만족했습니다.\",\n",
    "  \"서비스가 좀 더 개선되었으면 좋겠습니다. 기분이 좀 나빴습니다.\"\n",
    "]"
   ]
  },
  {
   "cell_type": "markdown",
   "id": "sitting-appraisal",
   "metadata": {},
   "source": [
    "KoNLPy 패키지에서 제공하는 Twitter(Okt) tokenizer(클래스) 를 사용하여 tokenization 한다.  \n",
    "tokenizer class 에 따라 결과가 다르다."
   ]
  },
  {
   "cell_type": "code",
   "execution_count": 8,
   "id": "proud-upset",
   "metadata": {},
   "outputs": [],
   "source": [
    "tokenizer = tag.Okt() # Twitter"
   ]
  },
  {
   "cell_type": "code",
   "execution_count": 9,
   "id": "destroyed-gospel",
   "metadata": {},
   "outputs": [],
   "source": [
    "def make_tokenized(data):\n",
    "    tokenized = [] # 단어 단위로 나뉜 리뷰 데이터\n",
    "    \n",
    "    for sent in tqdm(data):\n",
    "        tokens = tokenizer.morphs(sent)\n",
    "        tokenized.append(tokens)\n",
    "        \n",
    "    return tokenized"
   ]
  },
  {
   "cell_type": "code",
   "execution_count": 10,
   "id": "spanish-moscow",
   "metadata": {},
   "outputs": [
    {
     "name": "stderr",
     "output_type": "stream",
     "text": [
      "100%|██████████| 10/10 [00:03<00:00,  2.77it/s]\n",
      "100%|██████████| 4/4 [00:00<00:00, 224.07it/s]\n"
     ]
    }
   ],
   "source": [
    "train_tokenized = make_tokenized(train_data)\n",
    "test_tokenized = make_tokenized(test_data)"
   ]
  },
  {
   "cell_type": "code",
   "execution_count": 12,
   "id": "grateful-ocean",
   "metadata": {
    "scrolled": true
   },
   "outputs": [
    {
     "data": {
      "text/plain": [
       "[['정말', '맛있습니다', '.', '추천', '합니다', '.'],\n",
       " ['기대했던', '것', '보단', '별로', '였네요', '.'],\n",
       " ['다',\n",
       "  '좋은데',\n",
       "  '가격',\n",
       "  '이',\n",
       "  '너무',\n",
       "  '비싸서',\n",
       "  '다시',\n",
       "  '가고',\n",
       "  '싶다는',\n",
       "  '생각',\n",
       "  '이',\n",
       "  '안',\n",
       "  '드네',\n",
       "  '요',\n",
       "  '.'],\n",
       " ['완전', '최고', '입니다', '!', '재', '방문', '의사', '있습니다', '.'],\n",
       " ['음식', '도', '서비스', '도', '다', '만족스러웠습니다', '.'],\n",
       " ['위생',\n",
       "  '상태',\n",
       "  '가',\n",
       "  '좀',\n",
       "  '별로',\n",
       "  '였습니다',\n",
       "  '.',\n",
       "  '좀',\n",
       "  '더',\n",
       "  '개선',\n",
       "  '되',\n",
       "  '기를',\n",
       "  '바랍니다',\n",
       "  '.'],\n",
       " ['맛', '도', '좋았고', '직원', '분들', '서비스', '도', '너무', '친절했습니다', '.'],\n",
       " ['기념일',\n",
       "  '에',\n",
       "  '방문',\n",
       "  '했는데',\n",
       "  '음식',\n",
       "  '도',\n",
       "  '분위기',\n",
       "  '도',\n",
       "  '서비스',\n",
       "  '도',\n",
       "  '다',\n",
       "  '좋았습니다',\n",
       "  '.'],\n",
       " ['전반', '적', '으로', '음식', '이', '너무', '짰습니다', '.', '저', '는', '별로', '였네요', '.'],\n",
       " ['위생', '에', '조금', '더', '신경', '썼으면', '좋겠습니다', '.', '조금', '불쾌했습니다', '.']]"
      ]
     },
     "execution_count": 12,
     "metadata": {},
     "output_type": "execute_result"
    }
   ],
   "source": [
    "train_tokenized"
   ]
  },
  {
   "cell_type": "code",
   "execution_count": 13,
   "id": "veterinary-slave",
   "metadata": {},
   "outputs": [
    {
     "data": {
      "text/plain": [
       "[['정말', '좋았습니다', '.', '또', '가고', '싶네요', '.'],\n",
       " ['별로', '였습니다', '.', '되도록', '가지', '마세요', '.'],\n",
       " ['다른', '분', '들께도', '추천', '드릴', '수', '있을', '만큼', '만족했습니다', '.'],\n",
       " ['서비스',\n",
       "  '가',\n",
       "  '좀',\n",
       "  '더',\n",
       "  '개선',\n",
       "  '되었으면',\n",
       "  '좋겠습니다',\n",
       "  '.',\n",
       "  '기분',\n",
       "  '이',\n",
       "  '좀',\n",
       "  '나빴습니다',\n",
       "  '.']]"
      ]
     },
     "execution_count": 13,
     "metadata": {},
     "output_type": "execute_result"
    }
   ],
   "source": [
    "test_tokenized"
   ]
  },
  {
   "cell_type": "markdown",
   "id": "adult-departure",
   "metadata": {},
   "source": [
    "학습데이터 기준으로 가장 많이 등장한 단어부터 순서대로 vocab 에 추가합니다."
   ]
  },
  {
   "cell_type": "code",
   "execution_count": 15,
   "id": "french-dictionary",
   "metadata": {},
   "outputs": [
    {
     "name": "stderr",
     "output_type": "stream",
     "text": [
      "100%|██████████| 10/10 [00:00<00:00, 94254.02it/s]\n"
     ]
    }
   ],
   "source": [
    "word_count = defaultdict(int) # key : 단어, value : 등장횟수\n",
    "\n",
    "for tokens in tqdm(train_tokenized): # 각 단어에 대해\n",
    "    for token in tokens:\n",
    "        word_count[token] += 1"
   ]
  },
  {
   "cell_type": "code",
   "execution_count": 16,
   "id": "floral-shannon",
   "metadata": {
    "scrolled": true
   },
   "outputs": [
    {
     "data": {
      "text/plain": [
       "defaultdict(int,\n",
       "            {'정말': 1,\n",
       "             '맛있습니다': 1,\n",
       "             '.': 14,\n",
       "             '추천': 1,\n",
       "             '합니다': 1,\n",
       "             '기대했던': 1,\n",
       "             '것': 1,\n",
       "             '보단': 1,\n",
       "             '별로': 3,\n",
       "             '였네요': 2,\n",
       "             '다': 3,\n",
       "             '좋은데': 1,\n",
       "             '가격': 1,\n",
       "             '이': 3,\n",
       "             '너무': 3,\n",
       "             '비싸서': 1,\n",
       "             '다시': 1,\n",
       "             '가고': 1,\n",
       "             '싶다는': 1,\n",
       "             '생각': 1,\n",
       "             '안': 1,\n",
       "             '드네': 1,\n",
       "             '요': 1,\n",
       "             '완전': 1,\n",
       "             '최고': 1,\n",
       "             '입니다': 1,\n",
       "             '!': 1,\n",
       "             '재': 1,\n",
       "             '방문': 2,\n",
       "             '의사': 1,\n",
       "             '있습니다': 1,\n",
       "             '음식': 3,\n",
       "             '도': 7,\n",
       "             '서비스': 3,\n",
       "             '만족스러웠습니다': 1,\n",
       "             '위생': 2,\n",
       "             '상태': 1,\n",
       "             '가': 1,\n",
       "             '좀': 2,\n",
       "             '였습니다': 1,\n",
       "             '더': 2,\n",
       "             '개선': 1,\n",
       "             '되': 1,\n",
       "             '기를': 1,\n",
       "             '바랍니다': 1,\n",
       "             '맛': 1,\n",
       "             '좋았고': 1,\n",
       "             '직원': 1,\n",
       "             '분들': 1,\n",
       "             '친절했습니다': 1,\n",
       "             '기념일': 1,\n",
       "             '에': 2,\n",
       "             '했는데': 1,\n",
       "             '분위기': 1,\n",
       "             '좋았습니다': 1,\n",
       "             '전반': 1,\n",
       "             '적': 1,\n",
       "             '으로': 1,\n",
       "             '짰습니다': 1,\n",
       "             '저': 1,\n",
       "             '는': 1,\n",
       "             '조금': 2,\n",
       "             '신경': 1,\n",
       "             '썼으면': 1,\n",
       "             '좋겠습니다': 1,\n",
       "             '불쾌했습니다': 1})"
      ]
     },
     "execution_count": 16,
     "metadata": {},
     "output_type": "execute_result"
    }
   ],
   "source": [
    "word_count # 각 단어에 대한 빈도"
   ]
  },
  {
   "cell_type": "code",
   "execution_count": 20,
   "id": "religious-contract",
   "metadata": {},
   "outputs": [
    {
     "name": "stdout",
     "output_type": "stream",
     "text": [
      "66\n"
     ]
    }
   ],
   "source": [
    "word_count = sorted(word_count.items(), key = lambda x: x[1], reverse=True) # 빈도순 처리\n",
    "print(len(word_count))"
   ]
  },
  {
   "cell_type": "code",
   "execution_count": 24,
   "id": "seeing-header",
   "metadata": {},
   "outputs": [
    {
     "name": "stderr",
     "output_type": "stream",
     "text": [
      "100%|██████████| 66/66 [00:00<00:00, 544929.26it/s]\n"
     ]
    }
   ],
   "source": [
    "w2i = {} # key : 단어, value : 단어의 index\n",
    "for pair in tqdm(word_count):\n",
    "    if pair[0] not in w2i:\n",
    "        w2i[pair[0]] = len(w2i) # 계속 이어서 새롭게 할당하기 for index 처리"
   ]
  },
  {
   "cell_type": "code",
   "execution_count": 25,
   "id": "necessary-lying",
   "metadata": {},
   "outputs": [
    {
     "data": {
      "text/plain": [
       "66"
      ]
     },
     "execution_count": 25,
     "metadata": {},
     "output_type": "execute_result"
    }
   ],
   "source": [
    "len(w2i)"
   ]
  },
  {
   "cell_type": "code",
   "execution_count": 26,
   "id": "international-facial",
   "metadata": {
    "scrolled": true
   },
   "outputs": [
    {
     "data": {
      "text/plain": [
       "{'.': 0,\n",
       " '도': 1,\n",
       " '별로': 2,\n",
       " '다': 3,\n",
       " '이': 4,\n",
       " '너무': 5,\n",
       " '음식': 6,\n",
       " '서비스': 7,\n",
       " '였네요': 8,\n",
       " '방문': 9,\n",
       " '위생': 10,\n",
       " '좀': 11,\n",
       " '더': 12,\n",
       " '에': 13,\n",
       " '조금': 14,\n",
       " '정말': 15,\n",
       " '맛있습니다': 16,\n",
       " '추천': 17,\n",
       " '합니다': 18,\n",
       " '기대했던': 19,\n",
       " '것': 20,\n",
       " '보단': 21,\n",
       " '좋은데': 22,\n",
       " '가격': 23,\n",
       " '비싸서': 24,\n",
       " '다시': 25,\n",
       " '가고': 26,\n",
       " '싶다는': 27,\n",
       " '생각': 28,\n",
       " '안': 29,\n",
       " '드네': 30,\n",
       " '요': 31,\n",
       " '완전': 32,\n",
       " '최고': 33,\n",
       " '입니다': 34,\n",
       " '!': 35,\n",
       " '재': 36,\n",
       " '의사': 37,\n",
       " '있습니다': 38,\n",
       " '만족스러웠습니다': 39,\n",
       " '상태': 40,\n",
       " '가': 41,\n",
       " '였습니다': 42,\n",
       " '개선': 43,\n",
       " '되': 44,\n",
       " '기를': 45,\n",
       " '바랍니다': 46,\n",
       " '맛': 47,\n",
       " '좋았고': 48,\n",
       " '직원': 49,\n",
       " '분들': 50,\n",
       " '친절했습니다': 51,\n",
       " '기념일': 52,\n",
       " '했는데': 53,\n",
       " '분위기': 54,\n",
       " '좋았습니다': 55,\n",
       " '전반': 56,\n",
       " '적': 57,\n",
       " '으로': 58,\n",
       " '짰습니다': 59,\n",
       " '저': 60,\n",
       " '는': 61,\n",
       " '신경': 62,\n",
       " '썼으면': 63,\n",
       " '좋겠습니다': 64,\n",
       " '불쾌했습니다': 65}"
      ]
     },
     "execution_count": 26,
     "metadata": {},
     "output_type": "execute_result"
    }
   ],
   "source": [
    "w2i\n",
    "# word_count 가 빈도순으로 처리되어있으므로, 이 index 또한 자연스럽게 빈도역순으로 인덱싱됨."
   ]
  },
  {
   "cell_type": "markdown",
   "id": "naval-freeware",
   "metadata": {},
   "source": [
    "## 모델 Class 구현\n",
    "\n",
    "NaiveBayes Classifier 모델 클래스를 구현합니다.\n",
    "* `self.k` : Smoothing 을 위한 상수\n",
    "* `self.w2i` : 사전에 구한 vocab (사전)\n",
    "* `self.priors` : 각 class 의 prior 확률\n",
    "* `self.likelihoods` : 각 token 의 특정 class 조건 내에서의 likelihood"
   ]
  },
  {
   "cell_type": "markdown",
   "id": "continental-greek",
   "metadata": {},
   "source": [
    "* prior 확률  \n",
    "`prior probability` : 사전 확률 : '결과 B가 아직 관측되지 않은 단계에서 원인이 A 라는 확신의 정도' 를 확률로 나타낸 것(주관확률)   \n",
    "$$P(원인A)$$   \n",
    "\n",
    "  \n",
    "* likelihood 우도  \n",
    "'원인이 A 일 때 결과로서 B라는 데이터를 관측할 확신의 정도' 를 나타내는 주관확률  \n",
    "다만 이미 결과는 나와있으므로 확률이 아니라 결과 B 의 원인이 A 라고 생각하는 것은 그럴만 하다는 뜻에서 우도 라는 단어를 쓴다.\n",
    "\n",
    "$$P(결과B|원인A)$$\n",
    "\n",
    "* Laplace smoothing  \n",
    "나이브 베이즈 알고리즘을 사용할 때, 없는 단어가 나올 경우 무조건 확률은 0 가 된다.    \n",
    "smoothing : 새로운 단어가 나오더라도 해당 빈도에 +1 을 해줌으로써 확률이 0 이 되는 것을 막는다.    \n",
    "기존   \n",
    "$$\\hat{p} (x|c) = \\frac {count(x,c)}{\\sum_{x\\in V}count(x,c)} $$\n",
    "변환(빈도에 1을 더해주는 것)\n",
    "$$\\hat{p} (x|c) = \\frac {count(x,c)+1}{\\sum_{x\\in V}(count(x,c)+1)} =  \\frac {count(x,c)+1}{\\sum_{x\\in V}(count(x,c)) + \\left| V \\right|}$$\n",
    "\n",
    "* Log  \n",
    "추가로, 계속된 단어의 확률의 곱은 값이 매우 작아질 수 있는데, Log 를 이용해서 언더플로우를 방지 할 수 있다.    \n",
    "    \n",
    "    \n",
    "* 나이브 베이즈 분류기  \n",
    "분류 기준 : 다음에 주어진 계산의 값이 최대가 되는 클래스를 선택하는 것이다.  \n",
    "$$P(C_i)\\prod_{k}P(X_{j}^{k}=a_{k}|C_i)$$  \n",
    "로그화  \n",
    "$$ \\log{P(C_i) + \\log(\\prod_{k}P(X_{j}^{k}=a_{k}|C_i)})$$\n",
    "\n"
   ]
  },
  {
   "cell_type": "code",
   "execution_count": 27,
   "id": "subject-jersey",
   "metadata": {},
   "outputs": [],
   "source": [
    "class NaiveBayesClassifier():\n",
    "    def __init__(self, w2i, k = 0.1):\n",
    "        self.k = k\n",
    "        self.w2i = w2i\n",
    "        self.priors = {} # set_priors()\n",
    "        self.likelihoods = {} # set_likelihoods()\n",
    "        \n",
    "    # 학습\n",
    "    def train(self, train_tokenized, train_labels): \n",
    "        self.set_priors(train_labels) # priors 계산\n",
    "        self.set_likelihoods(train_tokenized, train_labels) # Likelihoods 계산\n",
    "        \n",
    "    # 추론    \n",
    "    def inference(self, tokens):\n",
    "        log_prob0 = 0.0\n",
    "        log_prob1 = 0.0\n",
    "        \n",
    "        for token in tokens:\n",
    "            if token in self.likelihoods: # 학습 당시 추가했던 단어에 대해서만 고려\n",
    "                log_prob0 += math.log(self.likelihoods[token][0])\n",
    "                log_prob1 += math.log(self.likelihoods[token][1])\n",
    "                \n",
    "        # 마지막에 prior 를 고려\n",
    "        log_prob0 += math.log(self.priors[0])\n",
    "        log_prob1 += math.log(self.priors[1])\n",
    "        \n",
    "        if log_prob0 >= log_prob1:\n",
    "            return 0\n",
    "        else:\n",
    "            return 1\n",
    "    \n",
    "    # 각 class 의 확률\n",
    "    def set_priors(self, train_labels): # train data 의 label 값\n",
    "        class_counts = defaultdict(int)\n",
    "        for label in tqdm(train_labels):\n",
    "            class_counts[label] += 1\n",
    "        \n",
    "        for label, count in class_counts.items():\n",
    "            self.priors[label] = class_counts[label] / len(train_labels) # 빈도를 확률로 바꾸고 클래스에 할당\n",
    "    \n",
    "    # 가능도\n",
    "    def set_likelihoods(self, train_tokenized, train_labels):\n",
    "        token_dists = {} # 각 단어의 특정 class 조건 하에서만 등장 횟수\n",
    "        class_counts = defaultdict(int) # 특정 class 에서 등장한 모든 단어의 등장 횟수\n",
    "        # (특정 클래스에서) -> 한 단어의 등장 횟수 / 모든 단어의 등장 횟수\n",
    "        \n",
    "        for i, label in enumerate(tqdm(train_labels)):\n",
    "            count = 0\n",
    "            for token in train_tokenized[i]:\n",
    "                if token in self.w2i: # 학습 데이터로 구축한 vocab 에 있는 token 만 고려\n",
    "                    if token not in token_dists:\n",
    "                        token_dists[token] = {0:0, 1:0}\n",
    "                    token_dists[token][label] += 1 # 각 token 의 class 별 빈도 추가\n",
    "                    count += 1\n",
    "            class_counts[label] += count\n",
    "        # 각 등장 횟수를 따로 계산\n",
    "        \n",
    "        for token, dist in tqdm(token_dists.items()):\n",
    "            if token not in self.likelihoods: # likelihoods 에 할당\n",
    "                # 위의 변환 Laplace smoothing\n",
    "                self.likelihoods[token] = {\n",
    "                    0:(token_dists[token][0] + self.k) / (class_counts[0] + len(self.w2i)*self.k),\n",
    "                    1:(token_dists[token][1] + self.k) / (class_counts[1] + len(self.w2i)*self.k),\n",
    "                }"
   ]
  },
  {
   "cell_type": "markdown",
   "id": "political-input",
   "metadata": {},
   "source": [
    "## 모델학습"
   ]
  },
  {
   "cell_type": "code",
   "execution_count": 28,
   "id": "coordinated-reward",
   "metadata": {},
   "outputs": [
    {
     "name": "stderr",
     "output_type": "stream",
     "text": [
      "100%|██████████| 10/10 [00:00<00:00, 34721.06it/s]\n",
      "100%|██████████| 10/10 [00:00<00:00, 29066.56it/s]\n",
      "100%|██████████| 66/66 [00:00<00:00, 238435.89it/s]\n"
     ]
    }
   ],
   "source": [
    "classifier = NaiveBayesClassifier(w2i)\n",
    "classifier.train(train_tokenized, train_labels)"
   ]
  },
  {
   "cell_type": "code",
   "execution_count": 36,
   "id": "hollow-professional",
   "metadata": {},
   "outputs": [
    {
     "data": {
      "text/plain": [
       "{1: 0.5, 0: 0.5}"
      ]
     },
     "execution_count": 36,
     "metadata": {},
     "output_type": "execute_result"
    }
   ],
   "source": [
    "classifier.priors # 각 클래스의 확률"
   ]
  },
  {
   "cell_type": "code",
   "execution_count": 37,
   "id": "tribal-horizontal",
   "metadata": {
    "scrolled": true
   },
   "outputs": [
    {
     "data": {
      "text/plain": [
       "{'정말': {0: 0.0015243902439024393, 1: 0.02131782945736434},\n",
       " '맛있습니다': {0: 0.0015243902439024393, 1: 0.02131782945736434},\n",
       " '.': {0: 0.12347560975609756, 1: 0.11821705426356588},\n",
       " '추천': {0: 0.0015243902439024393, 1: 0.02131782945736434},\n",
       " '합니다': {0: 0.0015243902439024393, 1: 0.02131782945736434},\n",
       " '기대했던': {0: 0.016768292682926834, 1: 0.001937984496124031},\n",
       " '것': {0: 0.016768292682926834, 1: 0.001937984496124031},\n",
       " '보단': {0: 0.016768292682926834, 1: 0.001937984496124031},\n",
       " '별로': {0: 0.04725609756097562, 1: 0.001937984496124031},\n",
       " '였네요': {0: 0.03201219512195122, 1: 0.001937984496124031},\n",
       " '다': {0: 0.016768292682926834, 1: 0.040697674418604654},\n",
       " '좋은데': {0: 0.016768292682926834, 1: 0.001937984496124031},\n",
       " '가격': {0: 0.016768292682926834, 1: 0.001937984496124031},\n",
       " '이': {0: 0.04725609756097562, 1: 0.001937984496124031},\n",
       " '너무': {0: 0.03201219512195122, 1: 0.02131782945736434},\n",
       " '비싸서': {0: 0.016768292682926834, 1: 0.001937984496124031},\n",
       " '다시': {0: 0.016768292682926834, 1: 0.001937984496124031},\n",
       " '가고': {0: 0.016768292682926834, 1: 0.001937984496124031},\n",
       " '싶다는': {0: 0.016768292682926834, 1: 0.001937984496124031},\n",
       " '생각': {0: 0.016768292682926834, 1: 0.001937984496124031},\n",
       " '안': {0: 0.016768292682926834, 1: 0.001937984496124031},\n",
       " '드네': {0: 0.016768292682926834, 1: 0.001937984496124031},\n",
       " '요': {0: 0.016768292682926834, 1: 0.001937984496124031},\n",
       " '완전': {0: 0.0015243902439024393, 1: 0.02131782945736434},\n",
       " '최고': {0: 0.0015243902439024393, 1: 0.02131782945736434},\n",
       " '입니다': {0: 0.0015243902439024393, 1: 0.02131782945736434},\n",
       " '!': {0: 0.0015243902439024393, 1: 0.02131782945736434},\n",
       " '재': {0: 0.0015243902439024393, 1: 0.02131782945736434},\n",
       " '방문': {0: 0.0015243902439024393, 1: 0.040697674418604654},\n",
       " '의사': {0: 0.0015243902439024393, 1: 0.02131782945736434},\n",
       " '있습니다': {0: 0.0015243902439024393, 1: 0.02131782945736434},\n",
       " '음식': {0: 0.016768292682926834, 1: 0.040697674418604654},\n",
       " '도': {0: 0.0015243902439024393, 1: 0.1375968992248062},\n",
       " '서비스': {0: 0.0015243902439024393, 1: 0.060077519379844964},\n",
       " '만족스러웠습니다': {0: 0.0015243902439024393, 1: 0.02131782945736434},\n",
       " '위생': {0: 0.03201219512195122, 1: 0.001937984496124031},\n",
       " '상태': {0: 0.016768292682926834, 1: 0.001937984496124031},\n",
       " '가': {0: 0.016768292682926834, 1: 0.001937984496124031},\n",
       " '좀': {0: 0.03201219512195122, 1: 0.001937984496124031},\n",
       " '였습니다': {0: 0.016768292682926834, 1: 0.001937984496124031},\n",
       " '더': {0: 0.03201219512195122, 1: 0.001937984496124031},\n",
       " '개선': {0: 0.016768292682926834, 1: 0.001937984496124031},\n",
       " '되': {0: 0.016768292682926834, 1: 0.001937984496124031},\n",
       " '기를': {0: 0.016768292682926834, 1: 0.001937984496124031},\n",
       " '바랍니다': {0: 0.016768292682926834, 1: 0.001937984496124031},\n",
       " '맛': {0: 0.0015243902439024393, 1: 0.02131782945736434},\n",
       " '좋았고': {0: 0.0015243902439024393, 1: 0.02131782945736434},\n",
       " '직원': {0: 0.0015243902439024393, 1: 0.02131782945736434},\n",
       " '분들': {0: 0.0015243902439024393, 1: 0.02131782945736434},\n",
       " '친절했습니다': {0: 0.0015243902439024393, 1: 0.02131782945736434},\n",
       " '기념일': {0: 0.0015243902439024393, 1: 0.02131782945736434},\n",
       " '에': {0: 0.016768292682926834, 1: 0.02131782945736434},\n",
       " '했는데': {0: 0.0015243902439024393, 1: 0.02131782945736434},\n",
       " '분위기': {0: 0.0015243902439024393, 1: 0.02131782945736434},\n",
       " '좋았습니다': {0: 0.0015243902439024393, 1: 0.02131782945736434},\n",
       " '전반': {0: 0.016768292682926834, 1: 0.001937984496124031},\n",
       " '적': {0: 0.016768292682926834, 1: 0.001937984496124031},\n",
       " '으로': {0: 0.016768292682926834, 1: 0.001937984496124031},\n",
       " '짰습니다': {0: 0.016768292682926834, 1: 0.001937984496124031},\n",
       " '저': {0: 0.016768292682926834, 1: 0.001937984496124031},\n",
       " '는': {0: 0.016768292682926834, 1: 0.001937984496124031},\n",
       " '조금': {0: 0.03201219512195122, 1: 0.001937984496124031},\n",
       " '신경': {0: 0.016768292682926834, 1: 0.001937984496124031},\n",
       " '썼으면': {0: 0.016768292682926834, 1: 0.001937984496124031},\n",
       " '좋겠습니다': {0: 0.016768292682926834, 1: 0.001937984496124031},\n",
       " '불쾌했습니다': {0: 0.016768292682926834, 1: 0.001937984496124031}}"
      ]
     },
     "execution_count": 37,
     "metadata": {},
     "output_type": "execute_result"
    }
   ],
   "source": [
    "classifier.likelihoods"
   ]
  },
  {
   "cell_type": "markdown",
   "id": "reasonable-current",
   "metadata": {},
   "source": [
    "## 테스트\n"
   ]
  },
  {
   "cell_type": "code",
   "execution_count": 30,
   "id": "noticed-analysis",
   "metadata": {},
   "outputs": [
    {
     "name": "stderr",
     "output_type": "stream",
     "text": [
      "100%|██████████| 4/4 [00:00<00:00, 27594.11it/s]\n"
     ]
    }
   ],
   "source": [
    "preds = []\n",
    "for test_tokens in tqdm(test_tokenized):\n",
    "    pred = classifier.inference(test_tokens)\n",
    "    preds.append(pred)"
   ]
  },
  {
   "cell_type": "code",
   "execution_count": 31,
   "id": "conventional-placement",
   "metadata": {},
   "outputs": [
    {
     "data": {
      "text/plain": [
       "[1, 0, 1, 0]"
      ]
     },
     "execution_count": 31,
     "metadata": {},
     "output_type": "execute_result"
    }
   ],
   "source": [
    "preds"
   ]
  },
  {
   "cell_type": "code",
   "execution_count": 35,
   "id": "liquid-emphasis",
   "metadata": {},
   "outputs": [
    {
     "data": {
      "text/plain": [
       "['정말 좋았습니다. 또 가고 싶네요.',\n",
       " '별로였습니다. 되도록 가지 마세요.',\n",
       " '다른 분들께도 추천드릴 수 있을 만큼 만족했습니다.',\n",
       " '서비스가 좀 더 개선되었으면 좋겠습니다. 기분이 좀 나빴습니다.']"
      ]
     },
     "execution_count": 35,
     "metadata": {},
     "output_type": "execute_result"
    }
   ],
   "source": [
    "test_data"
   ]
  },
  {
   "cell_type": "code",
   "execution_count": null,
   "id": "foster-motivation",
   "metadata": {},
   "outputs": [],
   "source": []
  }
 ],
 "metadata": {
  "kernelspec": {
   "display_name": "Python 3",
   "language": "python",
   "name": "python3"
  },
  "language_info": {
   "codemirror_mode": {
    "name": "ipython",
    "version": 3
   },
   "file_extension": ".py",
   "mimetype": "text/x-python",
   "name": "python",
   "nbconvert_exporter": "python",
   "pygments_lexer": "ipython3",
   "version": "3.7.9"
  },
  "toc": {
   "base_numbering": 1,
   "nav_menu": {},
   "number_sections": true,
   "sideBar": true,
   "skip_h1_title": false,
   "title_cell": "Table of Contents",
   "title_sidebar": "Contents",
   "toc_cell": false,
   "toc_position": {},
   "toc_section_display": true,
   "toc_window_display": false
  },
  "varInspector": {
   "cols": {
    "lenName": 16,
    "lenType": 16,
    "lenVar": 40
   },
   "kernels_config": {
    "python": {
     "delete_cmd_postfix": "",
     "delete_cmd_prefix": "del ",
     "library": "var_list.py",
     "varRefreshCmd": "print(var_dic_list())"
    },
    "r": {
     "delete_cmd_postfix": ") ",
     "delete_cmd_prefix": "rm(",
     "library": "var_list.r",
     "varRefreshCmd": "cat(var_dic_list()) "
    }
   },
   "types_to_exclude": [
    "module",
    "function",
    "builtin_function_or_method",
    "instance",
    "_Feature"
   ],
   "window_display": false
  }
 },
 "nbformat": 4,
 "nbformat_minor": 5
}
