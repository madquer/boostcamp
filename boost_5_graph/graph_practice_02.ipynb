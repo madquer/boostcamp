{
 "cells": [
  {
   "cell_type": "markdown",
   "id": "traditional-trademark",
   "metadata": {},
   "source": [
    "# Graph Representation\n",
    "\n",
    "1. 균일 그래프 (Regular Graph)\n",
    "2. 랜덤 그래프 (Random Graph)\n",
    "3. 작은 세상 그래프 (Small-world Graph)"
   ]
  },
  {
   "cell_type": "code",
   "execution_count": 1,
   "id": "occasional-laundry",
   "metadata": {},
   "outputs": [],
   "source": [
    "# 실습에 필요한 library를 import하고 그래프를 초기화합니다.\n",
    "import networkx as nx\n",
    "import os\n",
    "import os.path as osp\n",
    "import numpy as np\n",
    "import sys\n",
    "import matplotlib.pyplot as plt\n",
    "import collections\n",
    "np.set_printoptions(threshold=sys.maxsize)\n",
    "\n",
    "cycle_graph = nx.Graph()\n",
    "regular_graph = nx.Graph()\n",
    "small_world_graph = nx.Graph()\n",
    "random_graph = nx.Graph()"
   ]
  },
  {
   "cell_type": "code",
   "execution_count": 2,
   "id": "interested-webster",
   "metadata": {},
   "outputs": [],
   "source": [
    "# 실습에 사용할 데이터를 읽어옵니다.\n",
    "data = './data/lab/lab2/cycle.txt'\n",
    "f = open(data)\n",
    "for line in f:\n",
    "    v1, v2 = map(int, line.split())\n",
    "    cycle_graph.add_edge(v1, v2)\n",
    "\n",
    "data = './data/lab/lab2/regular.txt'\n",
    "f = open(data)\n",
    "for line in f:\n",
    "    v1, v2 = map(int, line.split())\n",
    "    regular_graph.add_edge(v1, v2)\n",
    "\n",
    "data = './data/lab/lab2/small_world.txt'\n",
    "f = open(data)\n",
    "for line in f:\n",
    "    v1, v2, = map(int, line.split())\n",
    "    small_world_graph.add_edge(v1, v2)\n",
    "\n",
    "data = './data/lab/lab2/random.txt'\n",
    "f = open(data)\n",
    "for line in f:\n",
    "    v1, v2 = map(int, line.split())\n",
    "    random_graph.add_edge(v1, v2)"
   ]
  },
  {
   "cell_type": "code",
   "execution_count": 6,
   "id": "thermal-illinois",
   "metadata": {},
   "outputs": [],
   "source": [
    "# 그래프의 전역 군집 계수를 찾는 함수입니다.\n",
    "#\n",
    "# 특정 정점 u의 정점 계수(cc)는 아래와 같이 구할 수 있습니다.\n",
    "# cc(u) = 2T(u)/(deg(u) * (deg(u) - 1))\n",
    "#   - cc(u) : 정점 u의 군집계수\n",
    "#   - T(u)  : 정점 u가 들어있는 삼각형 개수\n",
    "#   - deg(u): 정점 u의 차수 (degree)\n",
    "#\n",
    "# 그리고 전역 군집 계수는 모든 정점의 cc(u)의 평균을 의미합니다.\n",
    "# 전역 군집 계수\n",
    "# avg_cc(G) = sigma(u in G) cc(u) / n\n",
    "#   - avg_cc(G) : 그래프 G의 전역 군집 계수\n",
    "#   - n         : 그래프 G의 정점 개수\n",
    "#\n",
    "def getGraphAverageClusteringCoefficient(Graph):\n",
    "    ccs = []\n",
    "    for v in Graph.nodes:\n",
    "        num_connected_pairs = 0\n",
    "        for neighbor1 in Graph.neighbors(v):\n",
    "            for neighbor2 in Graph.neighbors(v):\n",
    "                if neighbor1 <= neighbor2:\n",
    "                    continue\n",
    "                if Graph.has_edge(neighbor1, neighbor2):\n",
    "                    num_connected_pairs += 1\n",
    "        cc = num_connected_pairs / (Graph.degree(v) * (Graph.degree(v) - 1) / 2)\n",
    "        ccs.append(cc)\n",
    "    return sum(ccs) / len(ccs)"
   ]
  },
  {
   "cell_type": "code",
   "execution_count": 7,
   "id": "indirect-protest",
   "metadata": {},
   "outputs": [],
   "source": [
    "# 본 실습에서는 그래프의 다양한 특성 중 그래프 지름과 전역 군집 계수를 분석해봅니다.\n",
    "# 그래프에서 Diameter, Average Clustering Coefficient를 찾는 알고리즘을 구현하고, networkx에서 제공하는 라이브러리와 결과를 비교해봅시다.\n",
    "\n",
    "# 그래프의 지름을 찾는 함수입니다.\n",
    "# Definition. Graph Diameter\n",
    "#   The graph diameter of a graph is the length max(u,v)d(u,v) of the \"longest shortest path between any two graph vertices (u,v), where d(u,v) is a graph distance.\n",
    "#\n",
    "def getGraphDiameter(Graph):\n",
    "    diameter = 0\n",
    "    for v in Graph.nodes:\n",
    "        length = nx.single_source_shortest_path_length(Graph, v)\n",
    "        max_length = max(length.values())\n",
    "        if max_length > diameter:\n",
    "            diameter = max_length\n",
    "    return diameter"
   ]
  },
  {
   "cell_type": "code",
   "execution_count": 8,
   "id": "established-minute",
   "metadata": {},
   "outputs": [
    {
     "name": "stdout",
     "output_type": "stream",
     "text": [
      "1. Graph Diameter\n",
      "cycle graph : 15\n",
      "cycle graph : 15\n",
      "regular graph : 8\n",
      "regular graph : 8\n",
      "small world graph : 6\n",
      "small world graph : 6\n",
      "random graph : 5\n",
      "random graph : 5\n",
      "\n",
      "2. Average Clustering Coefficient\n",
      "cycle graph : 0.0\n",
      "cycle graph : 0.0\n",
      "regular graph : 0.5\n",
      "regular graph : 0.5\n",
      "small world graph : 0.42555555555555563\n",
      "small world graph : 0.42555555555555563\n",
      "random graph : 0.027777777777777776\n",
      "random graph : 0.027777777777777776\n",
      "\n"
     ]
    }
   ],
   "source": [
    "# 아래는 위의 함수로 구한 그래프 지름 및 전역 군집 계수 값과 networkX에서 지원하는 library로 구한 값을 비교해봅니다.\n",
    "#\n",
    "#                   |     그래프 지름        |     전역 군집 계수\n",
    "# ------------------+------------------------------------------------------------                    \n",
    "# Regular Graph     |         High           |              High\n",
    "# Small World Graph |         Low            |              High\n",
    "# Random Graph      |         Low            |              Low\n",
    "#\n",
    "print(\"1. Graph Diameter\")\n",
    "print(\"cycle graph : \" + str(nx.diameter(cycle_graph)))\n",
    "print(\"cycle graph : \" + str(getGraphDiameter(cycle_graph)))\n",
    "\n",
    "print(\"regular graph : \" + str(nx.diameter(regular_graph)))\n",
    "print(\"regular graph : \" + str(getGraphDiameter(regular_graph)))\n",
    "\n",
    "print(\"small world graph : \" + str(nx.diameter(small_world_graph)))\n",
    "print(\"small world graph : \" + str(getGraphDiameter(small_world_graph)))\n",
    "\n",
    "print(\"random graph : \" + str(nx.diameter(random_graph)))\n",
    "print(\"random graph : \" + str(getGraphDiameter(random_graph)) + \"\\n\")\n",
    "\n",
    "print(\"2. Average Clustering Coefficient\")\n",
    "print(\"cycle graph : \" + str(nx.average_clustering(cycle_graph)))\n",
    "print(\"cycle graph : \" + str(getGraphAverageClusteringCoefficient(cycle_graph)))\n",
    "print(\"regular graph : \" + str(nx.average_clustering(regular_graph)))\n",
    "print(\"regular graph : \" + str(getGraphAverageClusteringCoefficient(regular_graph)))\n",
    "\n",
    "print(\"small world graph : \" + str(nx.average_clustering(small_world_graph)))\n",
    "print(\"small world graph : \" + str(getGraphAverageClusteringCoefficient(small_world_graph)))\n",
    "\n",
    "\n",
    "print(\"random graph : \" + str(nx.average_clustering(random_graph)))\n",
    "print(\"random graph : \" + str(getGraphAverageClusteringCoefficient(random_graph)) + \"\\n\")"
   ]
  },
  {
   "cell_type": "code",
   "execution_count": 9,
   "id": "short-observation",
   "metadata": {},
   "outputs": [
    {
     "name": "stdout",
     "output_type": "stream",
     "text": [
      "3. Degree Distribution\n"
     ]
    },
    {
     "data": {
      "image/png": "[encoded data removed]",
      "text/plain": [
       "<Figure size 432x288 with 1 Axes>"
      ]
     },
     "metadata": {
      "needs_background": "light"
     },
     "output_type": "display_data"
    }
   ],
   "source": [
    "# 그래프의 차수 분포을 그리는 부분입니다.\n",
    "print(\"3. Degree Distribution\")\n",
    "degree_sequence = sorted([d for n, d in random_graph.degree()], reverse = True)\n",
    "degreeCount = collections.Counter(degree_sequence)\n",
    "deg, cnt = zip(*degreeCount.items())\n",
    "plt.bar(deg, cnt, color=\"b\")\n",
    "plt.xlabel('degree')\n",
    "plt.ylabel('number of vertices')\n",
    "plt.xticks([2, 3, 4])\n",
    "plt.show()\n"
   ]
  },
  {
   "cell_type": "code",
   "execution_count": null,
   "id": "reasonable-turner",
   "metadata": {},
   "outputs": [],
   "source": []
  }
 ],
 "metadata": {
  "kernelspec": {
   "display_name": "Python 3",
   "language": "python",
   "name": "python3"
  },
  "language_info": {
   "codemirror_mode": {
    "name": "ipython",
    "version": 3
   },
   "file_extension": ".py",
   "mimetype": "text/x-python",
   "name": "python",
   "nbconvert_exporter": "python",
   "pygments_lexer": "ipython3",
   "version": "3.7.9"
  },
  "toc": {
   "base_numbering": 1,
   "nav_menu": {},
   "number_sections": true,
   "sideBar": true,
   "skip_h1_title": false,
   "title_cell": "Table of Contents",
   "title_sidebar": "Contents",
   "toc_cell": false,
   "toc_position": {},
   "toc_section_display": true,
   "toc_window_display": false
  },
  "varInspector": {
   "cols": {
    "lenName": 16,
    "lenType": 16,
    "lenVar": 40
   },
   "kernels_config": {
    "python": {
     "delete_cmd_postfix": "",
     "delete_cmd_prefix": "del ",
     "library": "var_list.py",
     "varRefreshCmd": "print(var_dic_list())"
    },
    "r": {
     "delete_cmd_postfix": ") ",
     "delete_cmd_prefix": "rm(",
     "library": "var_list.r",
     "varRefreshCmd": "cat(var_dic_list()) "
    }
   },
   "types_to_exclude": [
    "module",
    "function",
    "builtin_function_or_method",
    "instance",
    "_Feature"
   ],
   "window_display": false
  }
 },
 "nbformat": 4,
 "nbformat_minor": 5
}
