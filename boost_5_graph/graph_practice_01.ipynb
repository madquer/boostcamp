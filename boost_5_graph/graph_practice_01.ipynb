{
 "cells": [
  {
   "cell_type": "markdown",
   "id": "frozen-canal",
   "metadata": {},
   "source": [
    "# Graph basic"
   ]
  },
  {
   "cell_type": "code",
   "execution_count": 3,
   "id": "frank-douglas",
   "metadata": {},
   "outputs": [],
   "source": [
    "import networkx as nx\n",
    "import numpy as np\n",
    "import matplotlib.pyplot as plt\n",
    "import sys\n",
    "np.set_printoptions(threshold=sys.maxsize)"
   ]
  },
  {
   "cell_type": "code",
   "execution_count": 4,
   "id": "opposite-slope",
   "metadata": {},
   "outputs": [
    {
     "name": "stdout",
     "output_type": "stream",
     "text": [
      "### graph initiation ###\n"
     ]
    }
   ],
   "source": [
    "print(\"### graph initiation ###\")\n",
    "\n",
    "G = nx.Graph() # 방향성이 없는 그래프\n",
    "DiGraph = nx.DiGraph() # 방향성이 있는 그래프"
   ]
  },
  {
   "cell_type": "code",
   "execution_count": 5,
   "id": "joint-diamond",
   "metadata": {},
   "outputs": [
    {
     "name": "stdout",
     "output_type": "stream",
     "text": [
      "### Add Note to Graph ###\n",
      "# Add node 1\n",
      "Num of nodes in G : 1\n",
      "Graph : [1]\n",
      "\n"
     ]
    }
   ],
   "source": [
    "print('### Add Note to Graph ###')\n",
    "print('# Add node 1')\n",
    "G.add_node(1) # 정점 1 추가\n",
    "print('Num of nodes in G : ' + str(G.number_of_nodes()))\n",
    "print('Graph : ' + str(G.nodes) + '\\n')"
   ]
  },
  {
   "cell_type": "code",
   "execution_count": 7,
   "id": "passing-asbestos",
   "metadata": {},
   "outputs": [
    {
     "data": {
      "text/plain": [
       "(1, NodeView((1,)))"
      ]
     },
     "execution_count": 7,
     "metadata": {},
     "output_type": "execute_result"
    }
   ],
   "source": [
    "G.number_of_nodes(), G.nodes"
   ]
  },
  {
   "cell_type": "code",
   "execution_count": 8,
   "id": "sublime-queens",
   "metadata": {},
   "outputs": [
    {
     "name": "stdout",
     "output_type": "stream",
     "text": [
      "# Add vertex 2 ~ 10\n",
      "Num of nodes in G : 10\n",
      "Graph : [1, 2, 3, 4, 5, 6, 7, 8, 9, 10]\n",
      "\n"
     ]
    }
   ],
   "source": [
    "print('# Add vertex 2 ~ 10') # 정점 2 ~ 10 추가\n",
    "for i in range(1, 11):\n",
    "    G.add_node(i)\n",
    "print('Num of nodes in G : ' + str(G.number_of_nodes()))\n",
    "print('Graph : ' + str(G.nodes) + '\\n')"
   ]
  },
  {
   "cell_type": "code",
   "execution_count": 9,
   "id": "major-colors",
   "metadata": {},
   "outputs": [
    {
     "name": "stdout",
     "output_type": "stream",
     "text": [
      "### Add Edge to Graph ###\n",
      "# Add edge (1, 2)\n",
      "Graph : [(1, 2)]\n",
      "\n"
     ]
    }
   ],
   "source": [
    "print('### Add Edge to Graph ###')\n",
    "G = nx.Graph()\n",
    "print('# Add edge (1, 2)')\n",
    "G.add_edge(1,2)                         # 정점 1 과 2 사이에 간선 추가\n",
    "print('Graph : ' + str(G.edges) + '\\n') # 간선의 목록 반환"
   ]
  },
  {
   "cell_type": "code",
   "execution_count": 12,
   "id": "exterior-memphis",
   "metadata": {},
   "outputs": [
    {
     "data": {
      "text/plain": [
       "(2, 1)"
      ]
     },
     "execution_count": 12,
     "metadata": {},
     "output_type": "execute_result"
    }
   ],
   "source": [
    "G.number_of_nodes(), G.number_of_edges()"
   ]
  },
  {
   "cell_type": "code",
   "execution_count": 13,
   "id": "german-event",
   "metadata": {},
   "outputs": [
    {
     "name": "stdout",
     "output_type": "stream",
     "text": [
      "# Add edge (1, i) for i = 2 ~ 10\n",
      "Graph : [(1, 2), (1, 3), (1, 4), (1, 5), (1, 6), (1, 7), (1, 8), (1, 9), (1, 10)]\n",
      "\n"
     ]
    }
   ],
   "source": [
    "print('# Add edge (1, i) for i = 2 ~ 10')\n",
    "for i in range(2, 11):\n",
    "    G.add_edge(1, i)\n",
    "print('Graph : ' + str(G.edges) + '\\n')"
   ]
  },
  {
   "cell_type": "code",
   "execution_count": 14,
   "id": "generic-treasure",
   "metadata": {},
   "outputs": [
    {
     "data": {
      "image/png": "[encoded data removed]",
      "text/plain": [
       "<Figure size 432x288 with 1 Axes>"
      ]
     },
     "metadata": {},
     "output_type": "display_data"
    }
   ],
   "source": [
    "# 그래프 시각화\n",
    "# 정점의 위치 결정\n",
    "pos = nx.spring_layout(G) # 정점의 위치를 잘 결정해야 그래프 시각화가 용이\n",
    "\n",
    "im = nx.draw_networkx_nodes(G, pos, node_color = 'red', node_size = 100)\n",
    "nx.draw_networkx_edges(G, pos)\n",
    "\n",
    "nx.draw_networkx_labels(G, pos, font_size=10, font_color='black')\n",
    "plt.show();"
   ]
  },
  {
   "cell_type": "code",
   "execution_count": 17,
   "id": "future-needle",
   "metadata": {},
   "outputs": [
    {
     "data": {
      "text/plain": [
       "{1: array([-0.00294603, -0.00025886]),\n",
       " 2: array([-0.93718692,  0.3359167 ]),\n",
       " 3: array([-0.92873444, -0.34297299]),\n",
       " 4: array([-0.49404674, -0.8663725 ]),\n",
       " 5: array([ 0.76458008, -0.63552065]),\n",
       " 6: array([0.16670201, 0.97987534]),\n",
       " 7: array([ 0.1757583 , -0.97930326]),\n",
       " 8: array([1.        , 0.00419444]),\n",
       " 9: array([0.75972053, 0.64348361]),\n",
       " 10: array([-0.50384678,  0.86095819])}"
      ]
     },
     "execution_count": 17,
     "metadata": {},
     "output_type": "execute_result"
    }
   ],
   "source": [
    "pos = nx.spring_layout(G) # 정점의 위치를 잘 결정해야 그래프 시각화가 용이\n",
    "pos"
   ]
  },
  {
   "cell_type": "markdown",
   "id": "present-assault",
   "metadata": {},
   "source": [
    "# Graph Representation"
   ]
  },
  {
   "cell_type": "code",
   "execution_count": 19,
   "id": "russian-speaker",
   "metadata": {},
   "outputs": [],
   "source": [
    "import os\n",
    "import os.path as osp"
   ]
  },
  {
   "cell_type": "code",
   "execution_count": 20,
   "id": "collectible-hometown",
   "metadata": {},
   "outputs": [],
   "source": [
    "G = nx.Graph()"
   ]
  },
  {
   "cell_type": "code",
   "execution_count": 22,
   "id": "quantitative-ministry",
   "metadata": {},
   "outputs": [
    {
     "name": "stdout",
     "output_type": "stream",
     "text": [
      "#### Read Graphs ####\n",
      "[(1, 2), (1, 10), (2, 3), (3, 4), (4, 5), (5, 6), (6, 7), (7, 8), (8, 9), (9, 10)]\n"
     ]
    }
   ],
   "source": [
    "# 10개의 node 로 이루어진, 원 모양의 그래프 정보를 가져온다.\n",
    "# 각 데이터 셋은 edge 형태로 저장되어 있다.\n",
    "\n",
    "print('#### Read Graphs ####')\n",
    "data = 'data/lab/lab1/small_cycle.txt'\n",
    "f = open(data)\n",
    "for line in f:\n",
    "    v1, v2 = list(map(int, line.split()))\n",
    "    G.add_edge(v1, v2)\n",
    "print(G.edges)"
   ]
  },
  {
   "cell_type": "code",
   "execution_count": 26,
   "id": "intellectual-present",
   "metadata": {},
   "outputs": [
    {
     "name": "stdout",
     "output_type": "stream",
     "text": [
      "1 : [2, 10]\n",
      "2 : [1, 3]\n",
      "3 : [2, 4]\n",
      "4 : [3, 5]\n",
      "5 : [4, 6]\n",
      "6 : [5, 7]\n",
      "7 : [6, 8]\n",
      "8 : [7, 9]\n",
      "9 : [8, 10]\n",
      "10 : [9, 1]\n"
     ]
    }
   ],
   "source": [
    "# 그래프를 인접 리스트로 저장\n",
    "ListGraph = nx.to_dict_of_lists(G)\n",
    "for v in ListGraph:\n",
    "    print(str(v) + ' : ' + str(ListGraph[v]))"
   ]
  },
  {
   "cell_type": "code",
   "execution_count": 29,
   "id": "interstate-rally",
   "metadata": {},
   "outputs": [
    {
     "name": "stdout",
     "output_type": "stream",
     "text": [
      "[(1, 2, {}), (1, 10, {}), (2, 3, {}), (3, 4, {}), (4, 5, {}), (5, 6, {}), (6, 7, {}), (7, 8, {}), (8, 9, {}), (9, 10, {})]\n",
      "1 2\n",
      "1 10\n",
      "2 3\n",
      "3 4\n",
      "4 5\n",
      "5 6\n",
      "6 7\n",
      "7 8\n",
      "8 9\n",
      "9 10\n"
     ]
    }
   ],
   "source": [
    "# 그래프를 간선 리스트로 저장\n",
    "EdgeListGraph = nx.to_edgelist(G)\n",
    "print(EdgeListGraph)\n",
    "for e in EdgeListGraph:\n",
    "    v1, v2, w = e\n",
    "    print(v1, v2)"
   ]
  },
  {
   "cell_type": "code",
   "execution_count": 30,
   "id": "necessary-canyon",
   "metadata": {},
   "outputs": [
    {
     "name": "stdout",
     "output_type": "stream",
     "text": [
      "[[0. 1. 0. 0. 0. 0. 0. 0. 0. 1.]\n",
      " [1. 0. 1. 0. 0. 0. 0. 0. 0. 0.]\n",
      " [0. 1. 0. 1. 0. 0. 0. 0. 0. 0.]\n",
      " [0. 0. 1. 0. 1. 0. 0. 0. 0. 0.]\n",
      " [0. 0. 0. 1. 0. 1. 0. 0. 0. 0.]\n",
      " [0. 0. 0. 0. 1. 0. 1. 0. 0. 0.]\n",
      " [0. 0. 0. 0. 0. 1. 0. 1. 0. 0.]\n",
      " [0. 0. 0. 0. 0. 0. 1. 0. 1. 0.]\n",
      " [0. 0. 0. 0. 0. 0. 0. 1. 0. 1.]\n",
      " [1. 0. 0. 0. 0. 0. 0. 0. 1. 0.]]\n"
     ]
    }
   ],
   "source": [
    "# 그래프를 인접 행렬(일반 행렬) 로 저장\n",
    "NumpyArrayGraph = nx.to_numpy_array(G)\n",
    "print(NumpyArrayGraph)"
   ]
  },
  {
   "cell_type": "code",
   "execution_count": 31,
   "id": "handled-smooth",
   "metadata": {},
   "outputs": [
    {
     "name": "stdout",
     "output_type": "stream",
     "text": [
      "  (0, 1)\t1\n",
      "  (0, 9)\t1\n",
      "  (1, 0)\t1\n",
      "  (1, 2)\t1\n",
      "  (2, 1)\t1\n",
      "  (2, 3)\t1\n",
      "  (3, 2)\t1\n",
      "  (3, 4)\t1\n",
      "  (4, 3)\t1\n",
      "  (4, 5)\t1\n",
      "  (5, 4)\t1\n",
      "  (5, 6)\t1\n",
      "  (6, 5)\t1\n",
      "  (6, 7)\t1\n",
      "  (7, 6)\t1\n",
      "  (7, 8)\t1\n",
      "  (8, 7)\t1\n",
      "  (8, 9)\t1\n",
      "  (9, 0)\t1\n",
      "  (9, 8)\t1\n"
     ]
    }
   ],
   "source": [
    "# 그래프를 인접 행렬(희소 행렬) 로 저장\n",
    "SparseMatrixGraph = nx.to_scipy_sparse_matrix(G)\n",
    "print(SparseMatrixGraph)"
   ]
  },
  {
   "cell_type": "code",
   "execution_count": null,
   "id": "artificial-wiring",
   "metadata": {},
   "outputs": [],
   "source": []
  }
 ],
 "metadata": {
  "kernelspec": {
   "display_name": "Python 3",
   "language": "python",
   "name": "python3"
  },
  "language_info": {
   "codemirror_mode": {
    "name": "ipython",
    "version": 3
   },
   "file_extension": ".py",
   "mimetype": "text/x-python",
   "name": "python",
   "nbconvert_exporter": "python",
   "pygments_lexer": "ipython3",
   "version": "3.7.9"
  },
  "toc": {
   "base_numbering": 1,
   "nav_menu": {},
   "number_sections": true,
   "sideBar": true,
   "skip_h1_title": false,
   "title_cell": "Table of Contents",
   "title_sidebar": "Contents",
   "toc_cell": false,
   "toc_position": {},
   "toc_section_display": true,
   "toc_window_display": false
  },
  "varInspector": {
   "cols": {
    "lenName": 16,
    "lenType": 16,
    "lenVar": 40
   },
   "kernels_config": {
    "python": {
     "delete_cmd_postfix": "",
     "delete_cmd_prefix": "del ",
     "library": "var_list.py",
     "varRefreshCmd": "print(var_dic_list())"
    },
    "r": {
     "delete_cmd_postfix": ") ",
     "delete_cmd_prefix": "rm(",
     "library": "var_list.r",
     "varRefreshCmd": "cat(var_dic_list()) "
    }
   },
   "types_to_exclude": [
    "module",
    "function",
    "builtin_function_or_method",
    "instance",
    "_Feature"
   ],
   "window_display": false
  }
 },
 "nbformat": 4,
 "nbformat_minor": 5
}
